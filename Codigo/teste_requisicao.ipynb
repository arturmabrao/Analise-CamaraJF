{
 "cells": [
  {
   "cell_type": "code",
   "execution_count": 4,
   "id": "efeff388",
   "metadata": {},
   "outputs": [],
   "source": [
    "import requests"
   ]
  },
  {
   "cell_type": "code",
   "execution_count": 9,
   "id": "405122e2",
   "metadata": {},
   "outputs": [
    {
     "name": "stdout",
     "output_type": "stream",
     "text": [
      "Falhou\n"
     ]
    }
   ],
   "source": [
    "\n",
    "# By using a context manager, you can ensure the resources used by\n",
    "# the session will be released after use\n",
    "with requests.Session() as session:\n",
    "    #num_proj = int(listagem['Projeto'][i])\n",
    "    #ano_proj = int(listagem['Ano'][i])\n",
    "    #tipo_proj = listagem['Codigo_Tipo'][i]\n",
    "    \n",
    "    query = {\"numero\": 193600, \"ano\": 2012, \"tipo\": 'REQ'}\n",
    "        \n",
    "    try:\n",
    "        # Requisicao para o portal de propostas da Camara\n",
    "        #query = {\"numero\": num_proj, \"ano\": ano_proj, \"codtipo\": tipo_proj}\n",
    "        resposta = requests.get('https://www.camarajf.mg.gov.br/sal/listapropos.php?', params=query)\n",
    "        print(resposta.headers)\n",
    "        print(resposta.json())\n",
    "        print(response.status_code)\n",
    "    except:\n",
    "        print('Falhou')\n",
    "# You can inspect the response just like you did before\n"
   ]
  }
 ],
 "metadata": {
  "kernelspec": {
   "display_name": "Python 3 (ipykernel)",
   "language": "python",
   "name": "python3"
  },
  "language_info": {
   "codemirror_mode": {
    "name": "ipython",
    "version": 3
   },
   "file_extension": ".py",
   "mimetype": "text/x-python",
   "name": "python",
   "nbconvert_exporter": "python",
   "pygments_lexer": "ipython3",
   "version": "3.9.12"
  }
 },
 "nbformat": 4,
 "nbformat_minor": 5
}
