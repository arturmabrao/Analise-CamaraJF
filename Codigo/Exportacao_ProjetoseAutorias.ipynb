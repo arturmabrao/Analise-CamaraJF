{
 "cells": [
  {
   "cell_type": "markdown",
   "id": "43abcb3f",
   "metadata": {},
   "source": [
    "### Bibliotecas"
   ]
  },
  {
   "cell_type": "code",
   "execution_count": null,
   "id": "4704fdbe",
   "metadata": {},
   "outputs": [],
   "source": [
    "# Matematicos, mapiulacao de dados e funcoes\n",
    "import numpy as np\n",
    "import pandas as pd\n",
    "import time\n",
    "# Desligando alertas de chained_assignment\n",
    "pd.options.mode.chained_assignment = None  # default='warn'\n",
    "\n",
    "# Graficos\n",
    "#import matplotlib\n",
    "#import matplotlib.pyplot as plt\n",
    "#import seaborn as sns\n",
    "\n",
    "# Chamadas e tratamentos de dados e arquivos\n",
    "import re\n",
    "import requests\n",
    "from pathlib import Path\n",
    "\n",
    "# Desativacao de warning\n",
    "import warnings\n",
    "warnings.simplefilter(action='ignore', category=FutureWarning)\n",
    "\n",
    "# GetDate\n",
    "from datetime import datetime #,  date"
   ]
  },
  {
   "cell_type": "markdown",
   "id": "265a7e92",
   "metadata": {},
   "source": [
    "### Importacao de listagem"
   ]
  },
  {
   "cell_type": "code",
   "execution_count": null,
   "id": "06c77c40",
   "metadata": {},
   "outputs": [],
   "source": [
    "#Reimportando arquivo - caso execucao tenha sido pausada\n",
    "path_to_file = '..//ListagemExp/ListagemExport2012-2015_checkpoint_05-11-2022_20-29-57.csv'\n",
    "listagem = pd.read_csv(path_to_file,\n",
    "                       usecols= ['Projeto','Ano','Tipo','Ementa','Situacao','Autor','Codigo_Tipo'\n",
    "                                 ,'Id_Projeto_Camara','Data_Projeto','Tramitacao_Encerrada','Aprovado'])\n",
    "\n",
    "#Substitundo valores\n",
    "listagem['Aprovado'] = listagem['Aprovado'].fillna('')\n",
    "listagem['Tramitacao_Encerrada'] = listagem['Tramitacao_Encerrada'].fillna('')\n",
    "listagem['Data_Projeto'] = listagem['Data_Projeto'].fillna('')\n",
    "listagem['Codigo_Tipo'] = listagem['Codigo_Tipo'].fillna('')\n",
    "\n",
    "listagem['Id_Projeto_Camara'] = listagem['Id_Projeto_Camara'].fillna(0)\n",
    "listagem['Id_Projeto_Camara'] = listagem['Id_Projeto_Camara'].astype(int)"
   ]
  },
  {
   "cell_type": "markdown",
   "id": "70d89c46",
   "metadata": {},
   "source": [
    "### Exportando informacoes sobre projetos e autoria para arquivos CSV"
   ]
  },
  {
   "cell_type": "code",
   "execution_count": null,
   "id": "44edb304",
   "metadata": {},
   "outputs": [],
   "source": [
    "# Exportacao da listagem de projetos para arquivo csv\n",
    "path_to_file = '../ListagemExp/ListagemExport_2012-2015.csv'\n",
    "path = Path(path_to_file)\n",
    "\n",
    "exp_columns = ['Projeto', 'Ano', 'Tipo', 'Ementa', 'Situacao', 'Codigo_Tipo'\n",
    "               , 'Id_Projeto_Camara', 'Data_Projeto','Tramitacao_Encerrada','Aprovado']\n",
    "              #, 'Autor'] \n",
    "    \n",
    "if path.is_file():\n",
    "    exp_header = False\n",
    "else:    \n",
    "    exp_header = True\n",
    "\n",
    "listagem.to_csv(path_to_file, mode='a', encoding = 'utf-8', index=False, header=exp_header, columns=exp_columns) "
   ]
  },
  {
   "cell_type": "code",
   "execution_count": null,
   "id": "d9defd87",
   "metadata": {},
   "outputs": [],
   "source": [
    "# Logica de identificador de autor (Id_Autor) e identificacao de autoria, separando casos de 'multiautoria'\n",
    "autoria_df_estrutura = {'nome_autor': [''],'id_projeto_camara': ['']}\n",
    "autoria_df = pd.DataFrame(columns=['nome_autor','id_projeto_camara'])\n",
    "autores = ['']\n",
    "aut = ['']\n",
    "\n",
    "for i in listagem.index:\n",
    "    aut = listagem['Autor'][i].split(', ')\n",
    "    \n",
    "    \n",
    "    for item in aut:\n",
    "        autoria = pd.DataFrame({'nome_autor': item, \n",
    "                      'id_projeto_camara': listagem['Id_Projeto_Camara'][i]}, index=[0]) \n",
    "        autoria_df = autoria_df.append(autoria, ignore_index=True, verify_integrity=False, sort=None) \n",
    "\n",
    "# Exportacao da listagem de autorias para arquivo csv\n",
    "path_to_file = '../ListagemExp/AutoriasExport_2012-2015.csv'\n",
    "path = Path(path_to_file)\n",
    "exp_columns = [\"id_projeto_camara\", \"nome_autor\"]\n",
    "\n",
    "if path.is_file():\n",
    "    exp_header = False\n",
    "else:    \n",
    "    exp_header = True\n",
    "\n",
    "autoria_df.to_csv(path_to_file, mode='a', encoding = 'utf-8', index=False, header=exp_header, columns=exp_columns) "
   ]
  }
 ],
 "metadata": {
  "kernelspec": {
   "display_name": "Python 3 (ipykernel)",
   "language": "python",
   "name": "python3"
  },
  "language_info": {
   "codemirror_mode": {
    "name": "ipython",
    "version": 3
   },
   "file_extension": ".py",
   "mimetype": "text/x-python",
   "name": "python",
   "nbconvert_exporter": "python",
   "pygments_lexer": "ipython3",
   "version": "3.9.12"
  }
 },
 "nbformat": 4,
 "nbformat_minor": 5
}
