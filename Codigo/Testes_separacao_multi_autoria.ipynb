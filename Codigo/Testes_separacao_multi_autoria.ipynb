{
 "cells": [
  {
   "cell_type": "code",
   "execution_count": 1,
   "id": "51d1b8d2",
   "metadata": {},
   "outputs": [],
   "source": [
    "# Imports\n",
    "\n",
    "# Matemaricos, mapiulacao de dados e funcoes\n",
    "import numpy as np\n",
    "import pandas as pd\n",
    "import time\n",
    "# Desligando alertas de chained_assignment\n",
    "pd.options.mode.chained_assignment = None  # default='warn'\n",
    "\n",
    "# Graficos\n",
    "#import matplotlib\n",
    "#import matplotlib.pyplot as plt\n",
    "#import seaborn as sns\n",
    "\n",
    "# Chamadas e tratamentos de dados e arquivos\n",
    "import re\n",
    "import requests\n",
    "from pathlib import Path"
   ]
  },
  {
   "cell_type": "code",
   "execution_count": 2,
   "id": "d3b4dedf",
   "metadata": {},
   "outputs": [],
   "source": [
    "# Carregamento da listagem de propostas\n",
    "listagem = pd.DataFrame(pd.read_excel('../Listagem/listagem_13.xlsx'))"
   ]
  },
  {
   "cell_type": "code",
   "execution_count": 3,
   "id": "c7559b42",
   "metadata": {},
   "outputs": [],
   "source": [
    "# Limpeza de colunas vazias\n",
    "listagem = listagem.drop(listagem.columns[[1,3,5,7,9]], axis=1)"
   ]
  },
  {
   "cell_type": "code",
   "execution_count": 4,
   "id": "31bd845e",
   "metadata": {},
   "outputs": [],
   "source": [
    "# Limpeza de linhas varias (NaN)\n",
    "listagem = listagem.dropna()"
   ]
  },
  {
   "cell_type": "code",
   "execution_count": 5,
   "id": "6225a707",
   "metadata": {},
   "outputs": [
    {
     "name": "stdout",
     "output_type": "stream",
     "text": [
      "['Dr. Fiorilo', ' Luiz Otávio Fernandes Coelho - Pardal', ' Wanderson Castelar']\n",
      "['Dr. Fiorilo', ' Luiz Otávio Fernandes Coelho - Pardal', ' Wanderson Castelar']\n",
      "['Dr. Fiorilo', ' Luiz Otávio Fernandes Coelho - Pardal', ' Wanderson Castelar']\n",
      "['Ana Rossignoli', ' Dr. Antônio Aguiar', ' Luiz Otávio Fernandes Coelho - Pardal', ' Betão']\n",
      "['Ana Rossignoli', ' André Mariano', ' Antônio Almas', ' Dr. Antônio Aguiar', ' Cido Reis', ' Chico Evangelista', ' Vagner de Oliveira', ' Isauro Calais', ' Dr. Fiorilo', ' Zé Márcio', ' João do Joaninho', ' Jucelio', ' Júlio Gasparette', ' Luiz Otávio Fernandes Coelho - Pardal', ' Nilton Militão', ' Noraldino Júnior', ' Oliveira Tresse', ' Betão', ' Rodrigo Mattos', ' Wanderson Castelar']\n",
      "['Isauro Calais', ' Ana Rossignoli', ' André Mariano', ' Dr. Antônio Aguiar', ' Cido Reis', ' Chico Evangelista', ' Vagner de Oliveira', ' Dr. Fiorilo', ' Zé Márcio', ' João do Joaninho', ' Jucelio', ' Júlio Gasparette', ' Luiz Otávio Fernandes Coelho - Pardal', ' Nilton Militão', ' Noraldino Júnior', ' Oliveira Tresse', ' Betão', ' Rodrigo Mattos', ' Wanderson Castelar']\n",
      "['Zé Márcio', ' Vagner de Oliveira', ' Noraldino Júnior', ' Betão']\n",
      "['Jucelio', ' Zé Márcio']\n",
      "['Jucelio', ' Zé Márcio']\n",
      "['Isauro Calais', ' Ana Rossignoli', ' André Mariano', ' Dr. Antônio Aguiar', ' Cido Reis', ' Chico Evangelista', ' Vagner de Oliveira', ' Dr. Fiorilo', ' Zé Márcio', ' João do Joaninho', ' Jucelio', ' Júlio Gasparette', ' Luiz Otávio Fernandes Coelho - Pardal', ' Nilton Militão', ' Noraldino Júnior', ' Oliveira Tresse', ' Betão', ' Rodrigo Mattos', ' Wanderson Castelar']\n",
      "['Isauro Calais', ' Ana Rossignoli', ' André Mariano', ' Dr. Antônio Aguiar', ' Cido Reis', ' Chico Evangelista', ' Vagner de Oliveira', ' Dr. Fiorilo', ' Zé Márcio', ' João do Joaninho', ' Jucelio', ' Júlio Gasparette', ' Luiz Otávio Fernandes Coelho - Pardal', ' Nilton Militão', ' Noraldino Júnior', ' Oliveira Tresse', ' Betão', ' Rodrigo Mattos', ' Wanderson Castelar']\n",
      "['Isauro Calais', ' Ana Rossignoli', ' Vagner de Oliveira', ' Rodrigo Mattos']\n"
     ]
    }
   ],
   "source": [
    "# Logica de identificador de autor (Id_Autor) e identificacao de autoria, separando casos de 'multiautoria'\n",
    "autores = ['']\n",
    "aut = ['']\n",
    "\n",
    "for i in listagem.index:\n",
    "    aut = listagem['Autor'][i].split(',')\n",
    "    \n",
    "    if len(aut) > 1:\n",
    "        print(aut)"
   ]
  },
  {
   "cell_type": "code",
   "execution_count": 6,
   "id": "80fc8293",
   "metadata": {},
   "outputs": [],
   "source": [
    "#display(listagem)"
   ]
  }
 ],
 "metadata": {
  "kernelspec": {
   "display_name": "Python 3 (ipykernel)",
   "language": "python",
   "name": "python3"
  },
  "language_info": {
   "codemirror_mode": {
    "name": "ipython",
    "version": 3
   },
   "file_extension": ".py",
   "mimetype": "text/x-python",
   "name": "python",
   "nbconvert_exporter": "python",
   "pygments_lexer": "ipython3",
   "version": "3.9.12"
  }
 },
 "nbformat": 4,
 "nbformat_minor": 5
}
