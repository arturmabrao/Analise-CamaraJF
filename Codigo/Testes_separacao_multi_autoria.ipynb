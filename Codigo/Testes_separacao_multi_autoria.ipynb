{
 "cells": [
  {
   "cell_type": "code",
   "execution_count": 1,
   "id": "51d1b8d2",
   "metadata": {},
   "outputs": [],
   "source": [
    "# Imports\n",
    "\n",
    "# Desativacao de warning\n",
    "import warnings\n",
    "warnings.simplefilter(action='ignore', category=FutureWarning)\n",
    "# Matemaricos, mapiulacao de dados e funcoes\n",
    "import numpy as np\n",
    "import pandas as pd\n",
    "import time\n",
    "# Desligando alertas de chained_assignment\n",
    "pd.options.mode.chained_assignment = None  # default='warn'\n",
    "\n",
    "# Graficos\n",
    "#import matplotlib\n",
    "#import matplotlib.pyplot as plt\n",
    "#import seaborn as sns\n",
    "\n",
    "# Chamadas e tratamentos de dados e arquivos\n",
    "import re\n",
    "import requests\n",
    "from pathlib import Path"
   ]
  },
  {
   "cell_type": "code",
   "execution_count": 15,
   "id": "d0bfde85",
   "metadata": {},
   "outputs": [
    {
     "name": "stdout",
     "output_type": "stream",
     "text": [
      "True\n"
     ]
    }
   ],
   "source": [
    "try:\n",
    "# Requisicao para o portal de propostas da Camara\n",
    "    query = {\"numero\": 193600, \"ano\": 2012, \"tipo\": 'REQ'}\n",
    "    resposta = requests.get('https://www.camarajf.mg.gov.br/sal/listapropos.php?', params=query)\n",
    "    try:\n",
    "        # Limpeza para pegar o id do projeto dentro da prefeitura\n",
    "        retorno = (''.join(map(chr, resposta.content.upper())).replace(' ', ''))\n",
    "        id_projeto = re.search('PROPOSICAO.PHP(.+?)TARGET=BLANK', retorno).group(1).replace('?NUM=','').replace('\"','')\n",
    "\n",
    "    except:\n",
    "        id_projeto = ''\n",
    "except:    #Assinala que houve falha\n",
    "    failed = True\n",
    "                    \n",
    "    resposta.close()\n",
    "    \n",
    "print(failed)"
   ]
  },
  {
   "cell_type": "code",
   "execution_count": null,
   "id": "d3b4dedf",
   "metadata": {},
   "outputs": [],
   "source": [
    "# Carregamento da listagem de propostas\n",
    "listagem = pd.DataFrame(pd.read_excel('../Listagem/listagem_13.xlsx'))"
   ]
  },
  {
   "cell_type": "code",
   "execution_count": null,
   "id": "c7559b42",
   "metadata": {},
   "outputs": [],
   "source": [
    "# Limpeza de colunas vazias\n",
    "listagem = listagem.drop(listagem.columns[[1,3,5,7,9]], axis=1)"
   ]
  },
  {
   "cell_type": "code",
   "execution_count": null,
   "id": "31bd845e",
   "metadata": {},
   "outputs": [],
   "source": [
    "# Limpeza de linhas varias (NaN)\n",
    "listagem = listagem.dropna()"
   ]
  },
  {
   "cell_type": "code",
   "execution_count": null,
   "id": "43c85ccd",
   "metadata": {},
   "outputs": [],
   "source": [
    "autoria_df_estrutura = {'nome_autor': [''],'id_projeto': ['']}\n",
    "\n",
    "\n",
    "autoria_df = pd.DataFrame(columns=['nome_autor','id_projeto'])"
   ]
  },
  {
   "cell_type": "code",
   "execution_count": null,
   "id": "a7aee4ed",
   "metadata": {},
   "outputs": [],
   "source": [
    "display(autoria_df)"
   ]
  },
  {
   "cell_type": "code",
   "execution_count": null,
   "id": "6225a707",
   "metadata": {},
   "outputs": [],
   "source": [
    "# Logica de identificador de autor (Id_Autor) e identificacao de autoria, separando casos de 'multiautoria'\n",
    "autores = ['']\n",
    "aut = ['']\n",
    "\n",
    "for i in listagem.index:\n",
    "    aut = listagem['Autor'][i].split(',')\n",
    "    \n",
    "    \n",
    "    for item in aut:\n",
    "        autoria = pd.DataFrame({'nome_autor': item, \n",
    "                      'id_projeto': listagem['Projeto'][i]}, index=[0]) # listagem['Id_Projeto'][i]\n",
    "        autoria_df = autoria_df.append(autoria, ignore_index=True, verify_integrity=False, sort=None) \n"
   ]
  },
  {
   "cell_type": "code",
   "execution_count": null,
   "id": "80fc8293",
   "metadata": {},
   "outputs": [],
   "source": [
    "display(listagem)"
   ]
  }
 ],
 "metadata": {
  "kernelspec": {
   "display_name": "Python 3 (ipykernel)",
   "language": "python",
   "name": "python3"
  },
  "language_info": {
   "codemirror_mode": {
    "name": "ipython",
    "version": 3
   },
   "file_extension": ".py",
   "mimetype": "text/x-python",
   "name": "python",
   "nbconvert_exporter": "python",
   "pygments_lexer": "ipython3",
   "version": "3.9.12"
  }
 },
 "nbformat": 4,
 "nbformat_minor": 5
}
