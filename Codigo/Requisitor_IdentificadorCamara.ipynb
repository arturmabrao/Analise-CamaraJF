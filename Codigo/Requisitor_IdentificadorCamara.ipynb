{
 "cells": [
  {
   "cell_type": "markdown",
   "id": "43abcb3f",
   "metadata": {},
   "source": [
    "### Bibliotecas"
   ]
  },
  {
   "cell_type": "code",
   "execution_count": 1,
   "id": "4704fdbe",
   "metadata": {},
   "outputs": [],
   "source": [
    "# Matematicos, mapiulacao de dados e funcoes\n",
    "import numpy as np\n",
    "import pandas as pd\n",
    "import time\n",
    "# Desligando alertas de chained_assignment\n",
    "pd.options.mode.chained_assignment = None  # default='warn'\n",
    "\n",
    "# Graficos\n",
    "#import matplotlib\n",
    "#import matplotlib.pyplot as plt\n",
    "#import seaborn as sns\n",
    "\n",
    "# Chamadas e tratamentos de dados e arquivos\n",
    "import re\n",
    "import requests\n",
    "from pathlib import Path\n",
    "\n",
    "# Desativacao de warning\n",
    "import warnings\n",
    "warnings.simplefilter(action='ignore', category=FutureWarning)\n",
    "\n",
    "# GetDate\n",
    "from datetime import datetime #,  date"
   ]
  },
  {
   "cell_type": "markdown",
   "id": "265a7e92",
   "metadata": {},
   "source": [
    "### Importacao de listagem"
   ]
  },
  {
   "cell_type": "code",
   "execution_count": 2,
   "id": "06c77c40",
   "metadata": {},
   "outputs": [],
   "source": [
    "#Reimportando arquivo - caso execucao tenha sido pausada\n",
    "path_to_file = '..//ListagemExp/ListagemExport2016-2022_checkpoint_13-11-2022_00-50-47.csv'\n",
    "listagem = pd.read_csv(path_to_file,\n",
    "                       usecols= ['Projeto','Ano','Tipo','Ementa','Situacao','Autor','Codigo_Tipo'\n",
    "                                 ,'Id_Projeto_Camara','Data_Projeto','Tramitacao_Encerrada','Aprovado'])\n",
    "\n",
    "#Substitundo valores\n",
    "listagem['Aprovado'] = listagem['Aprovado'].fillna('')\n",
    "listagem['Tramitacao_Encerrada'] = listagem['Tramitacao_Encerrada'].fillna('')\n",
    "listagem['Data_Projeto'] = listagem['Data_Projeto'].fillna('')\n",
    "listagem['Codigo_Tipo'] = listagem['Codigo_Tipo'].fillna('')\n",
    "\n",
    "listagem['Id_Projeto_Camara'] = listagem['Id_Projeto_Camara'].fillna(0)\n",
    "listagem['Id_Projeto_Camara'] = listagem['Id_Projeto_Camara'].astype(int)"
   ]
  },
  {
   "cell_type": "markdown",
   "id": "fd7b43ae",
   "metadata": {},
   "source": [
    "### Requisicao a Camara"
   ]
  },
  {
   "cell_type": "code",
   "execution_count": 4,
   "id": "b3254f08",
   "metadata": {},
   "outputs": [
    {
     "name": "stdout",
     "output_type": "stream",
     "text": [
      "O endpoint nao esta respondendo, verifique a conexao. Fim do processo. Nao encontrados = 0. Finalizado em: 13-11-2022_06-40-45. Status da exportacao: True.\n"
     ]
    }
   ],
   "source": [
    "# Preenchimento do campo Id_Projeto_Camara\n",
    "count = 1\n",
    "failed_req= 0\n",
    "failed = False\n",
    "id_projeto_camara = ''\n",
    "max_failed_req = 3\n",
    "notfound_count = 0\n",
    "req_count = 0\n",
    "max_req = 3500\n",
    "export = False\n",
    "\n",
    "while count > 0:\n",
    "    for i in listagem.index:\n",
    "        if (listagem['Id_Projeto_Camara'][i] == '' or listagem['Id_Projeto_Camara'][i] == 0) and listagem['Codigo_Tipo'][i] not in ('DESCONHECIDO','EMENDA'): \n",
    "            with requests.Session() as session:\n",
    "                id_projeto_camara = ''\n",
    "                failed = False\n",
    "                # Variaveis de requisicao\n",
    "                num_proj = int(listagem['Projeto'][i])\n",
    "                ano_proj = int(listagem['Ano'][i])\n",
    "                tipo_proj = listagem['Codigo_Tipo'][i]\n",
    "\n",
    "                try:\n",
    "                    # Requisicao para o portal de propostas da Camara\n",
    "                    query = {\"numero\": num_proj, \"ano\": ano_proj, \"codtipo\": tipo_proj}\n",
    "                    #query = {\"numero\": 193600, \"ano\": 2012, \"tipo\": 'REQ'}\n",
    "                    resposta = session.get('https://www.camarajf.mg.gov.br/sal/listapropos.php?', params=query)\n",
    "                    req_count+=1\n",
    "                    try:\n",
    "                        # Limpeza para pegar o id do projeto dentro da prefeitura\n",
    "                        #retorno = (''.join(map(chr, resposta.content.upper())).replace(' ', ''))\n",
    "                        retorno = (''.join(map(chr, resposta.content.upper())).replace(' ', '').replace('\\n', '').replace('\\r', '').replace('\\t', ''))\n",
    "                        id_projeto_camara = re.search('PROPOSICAO.PHP(.+?)TARGET=BLANK', retorno).group(1).replace('?NUM=','').replace('\"','')\n",
    "                    except:\n",
    "                        try:\n",
    "                            retorno = (''.join(map(chr, resposta.content.upper())).replace(' ', ''))\n",
    "                            id_projeto_camara = re.search('PROPOSICAON.PHP(.+?)TARGET=BLANK', retorno).group(1).replace('?NUM=','').replace('\"','')\n",
    "                        except:\n",
    "                            id_projeto_camara = 'Nao Encontrado'\n",
    "                            notfound_count += 1\n",
    "                except:\n",
    "                    #Assinala que houve falha\n",
    "                    failed = True\n",
    "                    time.sleep(180)\n",
    "\n",
    "                listagem['Id_Projeto_Camara'][i] = id_projeto_camara\n",
    "                #resposta.close()\n",
    "                session.close()\n",
    "                time.sleep(0.5)\n",
    "\n",
    "        if failed:\n",
    "            failed_req += 1\n",
    "        else:\n",
    "            filed_req = 0\n",
    "                \n",
    "#       Se houve X falhas consecutivas ou houve mais de Y requisicoes consecutivas \n",
    "        if failed_req > max_failed_req or req_count > max_req:\n",
    "            break\n",
    "\n",
    "    if failed_req > max_failed_req or req_count > max_req:\n",
    "        break   \n",
    "        \n",
    "    count = 0\n",
    "    \n",
    "    for i in listagem.index:\n",
    "        if listagem['Id_Projeto_Camara'][i] == '' and listagem['Codigo_Tipo'][i] not in ('DESCONHECIDO','EMENDA'):\n",
    "            count +=1\n",
    "\n",
    "now =datetime.now()\n",
    "dthr_finalizado = now.strftime(\"%d-%m-%Y_%H-%M-%S\")\n",
    "\n",
    "try:\n",
    "    # Exportacao da listagem no estado atual para arquivo csv\n",
    "    file = 'ListagemExport2016-2012_checkpoint_' + dthr_finalizado\n",
    "    path_to_file = '../ListagemExp/'+file+'.csv'\n",
    "    path = Path(path_to_file)\n",
    "\n",
    "    exp_columns = ['Projeto', 'Ano', 'Tipo', 'Ementa', 'Situacao', 'Autor','Codigo_Tipo', \n",
    "                    'Id_Projeto_Camara', 'Data_Projeto','Tramitacao_Encerrada','Aprovado']\n",
    "\n",
    "    if path.is_file():\n",
    "        exp_header = False\n",
    "    else:    \n",
    "        exp_header = True\n",
    "\n",
    "    listagem.to_csv(path_to_file, mode='a', encoding = 'utf-8', index=False, header=exp_header, columns=exp_columns) \n",
    "\n",
    "    export = True\n",
    "\n",
    "except:\n",
    "    export = False\n",
    "\n",
    "\n",
    "if failed_req > max_failed_req:\n",
    "    print(f'O endpoint nao esta respondendo, verifique a conexao. Fim do processo. Nao encontrados = {notfound_count}. Finalizado em: {dthr_finalizado}. Status da exportacao: {export}.')\n",
    "elif req_count > max_req:\n",
    "    print(f'Processo finalizado em {req_count} requisicoes. Nao encontrados = {notfound_count}. Finalizado em: {dthr_finalizado}. Status da exportacao: {export}.')\n",
    "else:\n",
    "    print(f'Fim do processo. Nao encontrados = {notfound_count}. Finalizado em: {dthr_finalizado}. Status da exportacao: {export}.')\n"
   ]
  },
  {
   "cell_type": "markdown",
   "id": "47277319",
   "metadata": {},
   "source": [
    "### Exportacao da listagem no estado atual "
   ]
  },
  {
   "cell_type": "code",
   "execution_count": null,
   "id": "a8095c7c",
   "metadata": {},
   "outputs": [],
   "source": [
    "# Exportacao da listagem no estado atual para arquivo csv\n",
    "now =datetime.now()\n",
    "\n",
    "file = 'ListagemExport2012-2015_checkpoint_' + now.strftime(\"%d-%m-%Y_%H-%M-%S\")\n",
    "path_to_file = '../ListagemExp/'+file+'.csv'\n",
    "path = Path(path_to_file)\n",
    "\n",
    "exp_columns = ['Projeto', 'Ano', 'Tipo', 'Ementa', 'Situacao', 'Autor','Codigo_Tipo', \n",
    "               'Id_Projeto_Camara', 'Data_Projeto','Tramitacao_Encerrada','Aprovado']\n",
    "\n",
    "if path.is_file():\n",
    "    exp_header = False\n",
    "else:    \n",
    "    exp_header = True\n",
    "\n",
    "listagem.to_csv(path_to_file, mode='a', encoding = 'utf-8', index=False, header=exp_header, columns=exp_columns) \n",
    "print(path)"
   ]
  },
  {
   "cell_type": "markdown",
   "id": "70d89c46",
   "metadata": {},
   "source": [
    "### Identificacao do estado da importacao dos dados"
   ]
  },
  {
   "cell_type": "code",
   "execution_count": 6,
   "id": "44edb304",
   "metadata": {},
   "outputs": [
    {
     "name": "stdout",
     "output_type": "stream",
     "text": [
      "41548\n",
      "20176\n",
      "424\n"
     ]
    }
   ],
   "source": [
    "tem=0\n",
    "naovaiter=0\n",
    "naotem=0\n",
    "\n",
    "for i in listagem.index:\n",
    "    if listagem['Id_Projeto_Camara'][i] != 0 and listagem['Codigo_Tipo'][i] not in ('DESCONHECIDO','EMENDA'):\n",
    "    #if listagem['Id_Projeto_Camara'][i]!='' and listagem['Codigo_Tipo'][i] not in ('DESCONHECIDO','EMENDA'):\n",
    "        tem+=1\n",
    "    elif listagem['Codigo_Tipo'][i] in ('DESCONHECIDO','EMENDA'):\n",
    "        naovaiter+=1\n",
    "    else:\n",
    "        naotem+=1\n",
    "\n",
    "print(tem)\n",
    "print(naotem)\n",
    "print(naovaiter)"
   ]
  },
  {
   "cell_type": "code",
   "execution_count": null,
   "id": "9f305096",
   "metadata": {},
   "outputs": [],
   "source": [
    "display(listagem)"
   ]
  }
 ],
 "metadata": {
  "kernelspec": {
   "display_name": "Python 3 (ipykernel)",
   "language": "python",
   "name": "python3"
  },
  "language_info": {
   "codemirror_mode": {
    "name": "ipython",
    "version": 3
   },
   "file_extension": ".py",
   "mimetype": "text/x-python",
   "name": "python",
   "nbconvert_exporter": "python",
   "pygments_lexer": "ipython3",
   "version": "3.9.12"
  }
 },
 "nbformat": 4,
 "nbformat_minor": 5
}
