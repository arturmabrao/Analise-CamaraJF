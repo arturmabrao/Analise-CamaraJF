{
 "cells": [
  {
   "cell_type": "markdown",
   "id": "43abcb3f",
   "metadata": {},
   "source": [
    "### Bibliotecas"
   ]
  },
  {
   "cell_type": "code",
   "execution_count": 3,
   "id": "4704fdbe",
   "metadata": {},
   "outputs": [],
   "source": [
    "# Matematicos, mapiulacao de dados e funcoes\n",
    "import numpy as np\n",
    "import pandas as pd\n",
    "import time\n",
    "# Desligando alertas de chained_assignment\n",
    "pd.options.mode.chained_assignment = None  # default='warn'\n",
    "\n",
    "# Graficos\n",
    "#import matplotlib\n",
    "#import matplotlib.pyplot as plt\n",
    "#import seaborn as sns\n",
    "\n",
    "# Chamadas e tratamentos de dados e arquivos\n",
    "import re\n",
    "import requests\n",
    "from pathlib import Path\n",
    "\n",
    "# Desativacao de warning\n",
    "import warnings\n",
    "warnings.simplefilter(action='ignore', category=FutureWarning)\n",
    "\n",
    "# GetDate\n",
    "from datetime import datetime #,  date"
   ]
  },
  {
   "cell_type": "markdown",
   "id": "265a7e92",
   "metadata": {},
   "source": [
    "### Importacao de listagem"
   ]
  },
  {
   "cell_type": "code",
   "execution_count": 6,
   "id": "06c77c40",
   "metadata": {},
   "outputs": [],
   "source": [
    "#Reimportando arquivo - caso execucao tenha sido pausada\n",
    "path_to_file = '..//ListagemExp/ListagemExport2012-2015_checkpoint_14-11-2022_20-15-39.csv'\n",
    "listagem = pd.read_csv(path_to_file,\n",
    "                       usecols= ['Projeto','Ano','Tipo','Ementa','Situacao','Autor','Codigo_Tipo'\n",
    "                                 ,'Id_Projeto_Camara','Data_Projeto','Tramitacao_Encerrada','Aprovado'])\n",
    "\n",
    "#Substitundo valores\n",
    "listagem['Aprovado'] = listagem['Aprovado'].fillna('')\n",
    "listagem['Tramitacao_Encerrada'] = listagem['Tramitacao_Encerrada'].fillna('')\n",
    "listagem['Data_Projeto'] = listagem['Data_Projeto'].fillna('')\n",
    "listagem['Codigo_Tipo'] = listagem['Codigo_Tipo'].fillna('')\n",
    "\n",
    "listagem['Id_Projeto_Camara'] = listagem['Id_Projeto_Camara'].fillna(0)\n",
    "listagem['Id_Projeto_Camara'] = listagem['Id_Projeto_Camara'].astype(int)"
   ]
  },
  {
   "cell_type": "markdown",
   "id": "fd7b43ae",
   "metadata": {},
   "source": [
    "### Requisicao a Camara"
   ]
  },
  {
   "cell_type": "code",
   "execution_count": 14,
   "id": "b3254f08",
   "metadata": {},
   "outputs": [
    {
     "name": "stdout",
     "output_type": "stream",
     "text": [
      "O endpoint nao esta respondendo, verifique a conexao. Fim do processo. Nao encontrados: data = 11, tramitacao = 0, aprovador = 0. Finalizado em: 14-11-2022_21-20-12. Status da exportacao: True.\n"
     ]
    }
   ],
   "source": [
    "# Preenchimento do campo Data_Projeto, Tramitacao_Encerrada e Aprovado\n",
    "count = 1\n",
    "failed_req= 0\n",
    "failed = False\n",
    "max_failed_req = 2\n",
    "req_count = 0\n",
    "max_req = 3000\n",
    "export = False\n",
    "\n",
    "data_projeto = ''\n",
    "notfound_count_dt = 0\n",
    "\n",
    "tramitacao_encerrada = ''\n",
    "notfound_count_tram = 0\n",
    "\n",
    "aprovado = ''\n",
    "notfound_count_aprv = 0\n",
    "\n",
    "while count > 0:\n",
    "    for i in listagem.index:\n",
    "        if (listagem['Data_Projeto'][i] == '' or listagem['Tramitacao_Encerrada'][i] == '' or listagem['Aprovado'][i] == '') and listagem['Id_Projeto_Camara'][i] != '': \n",
    "            with requests.Session() as session:\n",
    "                data_projeto = ''\n",
    "                tramitacao_encerrada = ''\n",
    "                aprovado = ''\n",
    "\n",
    "                failed = False\n",
    "                # Variaveis de requisicao\n",
    "                id_proj = listagem['Id_Projeto_Camara'][i]\n",
    "\n",
    "                try:\n",
    "                    # Requisicao para o portal de propostas da Camara\n",
    "                    query = {\"num\": id_proj}\n",
    "                    resposta = session.get('https://www.camarajf.mg.gov.br/sal/proposicao.php?', params=query)\n",
    "#                    retorno = (''.join(map(chr, resposta.content.upper())).replace(' ', ''))\n",
    "                    retorno = (''.join(map(chr, resposta.content.upper())).replace(' ', '').replace('\\n', '').replace('\\r', '').replace('\\t', ''))\n",
    "                    req_count+=1\n",
    "\n",
    "                    #Identificacao da data de registro do projeto\n",
    "                    try:\n",
    "                        # Limpeza para pegar o id do projeto dentro da prefeitura\n",
    "                        #retorno = (''.join(map(chr, resposta.content.upper())).replace(' ', ''))\n",
    "                        data_projeto = re.search('PER&IACUTE;ODO:(.+?)A', retorno).group(1)\n",
    "                    except:\n",
    "                        data_projeto = 'Data nao encontrada'\n",
    "                        notfound_count_dt += 1\n",
    "\n",
    "\n",
    "                    #Identificacao do encerramento da tramitacao do projeto\n",
    "                    #if 'Aprovad' in listagem['Situacao'][i] or 'Trasformado em Norma Jur' in listagem['Situacao'][i]:    \n",
    "                    if 'Aprovad' in listagem['Situacao'][i] or 'Trasformado em Norma Jur' in listagem['Situacao'][i] or 'Retirad' in listagem['Situacao'][i] or 'Rejeitad' in listagem['Situacao'][i] or 'Vetado Totalmente' in listagem['Situacao'][i]:    \n",
    "                            tramitacao_encerrada = 'SIM'\n",
    "                    else:\n",
    "                        try:\n",
    "                        # Limpeza para pegar o id do projeto dentro da prefeitura\n",
    "                        #retorno = (''.join(map(chr, resposta.content.upper())).replace(' ', ''))\n",
    "                        #tramitacao_encerrada = re.search('FIMTRAMITA&CCEDIL;&ATILDE;O:(.+?)\\t\\t\\t\\t\\t\\t', retorno).group(1)\n",
    "                        \n",
    "                            if(re.search('FIMTRAMITA&CCEDIL;&ATILDE;O:SIM', retorno)):\n",
    "                                tramitacao_encerrada = 'SIM'\n",
    "                            else:\n",
    "                                tramitacao_encerrada = 'NAO'\n",
    "                        except:\n",
    "                            tramitacao_encerrada = 'Informacao nao encontrada'\n",
    "                            notfound_count_tram+=1\n",
    "\n",
    "\n",
    "                    #Identificacao da aprovacao do projeto\n",
    "                    if tramitacao_encerrada == 'NAO': \n",
    "                        aprovado = 'TRAMITACAO'\n",
    "                    elif 'Aprovad' in listagem['Situacao'][i] or 'Trasformado em Norma Jur' in listagem['Situacao'][i]:\n",
    "                        aprovado = 'SIM'\n",
    "                    elif 'Retirad' in listagem['Situacao'][i] or 'Rejeitad' in listagem['Situacao'][i] or 'Vetad' in listagem['Situacao'][i]:# era 'Vetado Totalmente'\\\n",
    "                        aprovado = 'NAO'\n",
    "                    #elif listagem['Codigo_Tipo'][i] not in ('REQ', 'MOC', 'REP', 'PEDIF'):\n",
    "                    #    if listagem['Situacao'][i] == 'Arquivada': \n",
    "                    #        aprovado = 'NAO'        \n",
    "                    #    else:        \n",
    "                    #        aprovado = 'SIM'\n",
    "                    #elif listagem['Codigo_Tipo'][i] in ('REQ', 'MOC', 'REP', 'PEDIF'): \n",
    "                    else:\n",
    "                        try:\n",
    "                            # Limpeza para pegar o id do projeto dentro da prefeitura\n",
    "                            #retorno = (''.join(map(chr, resposta.content.upper())).replace(' ', ''))\n",
    "\n",
    "                            if(re.search('APROVAD', retorno)):\n",
    "                                aprovado = 'SIM'\n",
    "                            else:\n",
    "                                aprovado = 'NAO'\n",
    "                        except:\n",
    "                            aprovado = 'Informacao nao encontrada'\n",
    "                            notfound_count_aprv += 1\n",
    "\n",
    "                except:\n",
    "                    failed = True\n",
    "                    time.sleep(180)\n",
    "\n",
    "                listagem['Data_Projeto'][i] = data_projeto\n",
    "                listagem['Tramitacao_Encerrada'][i] = tramitacao_encerrada\n",
    "                listagem['Aprovado'][i] = aprovado\n",
    "\n",
    "                #resposta.close()\n",
    "                session.close()\n",
    "                time.sleep(0.5)\n",
    "\n",
    "        if failed:\n",
    "            failed_req += 1\n",
    "        else:\n",
    "            filed_req = 0\n",
    "                \n",
    "#       Se houve 5 falhas consecutivas\n",
    "        if failed_req > max_failed_req or req_count > max_req:\n",
    "            break\n",
    "            \n",
    "    if failed_req > max_failed_req or req_count > max_req:\n",
    "        break               \n",
    "            \n",
    "    count = 0          \n",
    "\n",
    "    for i in listagem.index:\n",
    "        if listagem['Data_Projeto'][i] == '' and listagem['Tramitacao_Encerrada'][i] == '' and listagem['Aprovado'][i] == '' and listagem['Id_Projeto_Camara'][i] != '':\n",
    "            count +=1\n",
    "\n",
    "now = datetime.now()\n",
    "dthr_finalizado = now.strftime(\"%d-%m-%Y_%H-%M-%S\")\n",
    "\n",
    "try:\n",
    "    # Exportacao da listagem no estado atual para arquivo csv-\n",
    "    file = 'ListagemExport2016-2022_checkpoint_' + dthr_finalizado\n",
    "    path_to_file = '../ListagemExp/'+file+'.csv'\n",
    "    path = Path(path_to_file)\n",
    "\n",
    "    exp_columns = ['Projeto', 'Ano', 'Tipo', 'Ementa', 'Situacao', 'Autor','Codigo_Tipo', \n",
    "                    'Id_Projeto_Camara', 'Data_Projeto','Tramitacao_Encerrada','Aprovado']\n",
    "\n",
    "    if path.is_file():\n",
    "        exp_header = False\n",
    "    else:    \n",
    "        exp_header = True\n",
    "\n",
    "    listagem.to_csv(path_to_file, mode='a', encoding = 'utf-8', index=False, header=exp_header, columns=exp_columns) \n",
    "\n",
    "    export = True\n",
    "\n",
    "except:\n",
    "    export = False\n",
    "\n",
    "if failed_req > max_failed_req:\n",
    "    print(f'O endpoint nao esta respondendo, verifique a conexao. Fim do processo. Nao encontrados: data = {notfound_count_dt}, tramitacao = {notfound_count_tram}, aprovador = {notfound_count_aprv}. Finalizado em: {dthr_finalizado}. Status da exportacao: {export}.')\n",
    "elif req_count > max_req:\n",
    "    print(f'Processo finalizado em {req_count} requisicoes. Nao encontrados: data = {notfound_count_dt}, tramitacao = {notfound_count_tram}, aprovador = {notfound_count_aprv}. Finalizado em: {dthr_finalizado}. Status da exportacao: {export}.')\n",
    "else:\n",
    "    print(f'Fim do processo. Nao encontrados: data = {notfound_count_dt}, tramitacao = {notfound_count_tram}, aprovador = {notfound_count_aprv}. Finalizado em: {dthr_finalizado}. Status da exportacao: {export}.')"
   ]
  },
  {
   "cell_type": "markdown",
   "id": "47277319",
   "metadata": {},
   "source": [
    "### Exportacao da listagem no estado atual "
   ]
  },
  {
   "cell_type": "code",
   "execution_count": 11,
   "id": "a8095c7c",
   "metadata": {},
   "outputs": [
    {
     "name": "stdout",
     "output_type": "stream",
     "text": [
      "..\\ListagemExp\\Trabalhados\\ListagemExport2012-2015_trab_altmanual09-11-2022_14-58-07.csv\n"
     ]
    }
   ],
   "source": [
    "# Exportacao da listagem no estado atual para arquivo csv\n",
    "now =datetime.now()\n",
    "\n",
    "file = 'ListagemExport2012-2015_trab_altmanual' + now.strftime(\"%d-%m-%Y_%H-%M-%S\")\n",
    "path_to_file = '../ListagemExp/Trabalhados/'+file+'.csv'\n",
    "path = Path(path_to_file)\n",
    "\n",
    "exp_columns = ['Projeto', 'Ano', 'Tipo', 'Ementa', 'Situacao', 'Autor','Codigo_Tipo', \n",
    "               'Id_Projeto_Camara', 'Data_Projeto','Tramitacao_Encerrada','Aprovado']\n",
    "\n",
    "if path.is_file():\n",
    "    exp_header = False\n",
    "else:    \n",
    "    exp_header = True\n",
    "\n",
    "listagem.to_csv(path_to_file, mode='a', encoding = 'utf-8', index=False, header=exp_header, columns=exp_columns) \n",
    "print(path)"
   ]
  },
  {
   "cell_type": "markdown",
   "id": "70d89c46",
   "metadata": {},
   "source": [
    "### Identificacao do estado da importacao dos dados"
   ]
  },
  {
   "cell_type": "code",
   "execution_count": 15,
   "id": "44edb304",
   "metadata": {},
   "outputs": [
    {
     "name": "stdout",
     "output_type": "stream",
     "text": [
      "10019\n",
      "51705\n",
      "424\n"
     ]
    }
   ],
   "source": [
    "tem=0\n",
    "naovaiter=0\n",
    "naotem=0\n",
    "\n",
    "#oid = ''\n",
    "for i in listagem.index:\n",
    "    if listagem['Data_Projeto'][i] != '' and listagem['Tramitacao_Encerrada'][i] != '' and listagem['Aprovado'][i] != '' and listagem['Codigo_Tipo'][i] not in ('DESCONHECIDO','EMENDA'):\n",
    "        tem+=1\n",
    "    elif listagem['Codigo_Tipo'][i] in ('DESCONHECIDO','EMENDA'):\n",
    "        naovaiter+=1\n",
    "    else:\n",
    "        naotem+=1\n",
    "        #oid=i\n",
    "print(tem)\n",
    "print(naotem)\n",
    "print(naovaiter)\n",
    "#print(oid)   "
   ]
  },
  {
   "cell_type": "code",
   "execution_count": null,
   "id": "c9695989",
   "metadata": {},
   "outputs": [],
   "source": []
  }
 ],
 "metadata": {
  "kernelspec": {
   "display_name": "Python 3 (ipykernel)",
   "language": "python",
   "name": "python3"
  },
  "language_info": {
   "codemirror_mode": {
    "name": "ipython",
    "version": 3
   },
   "file_extension": ".py",
   "mimetype": "text/x-python",
   "name": "python",
   "nbconvert_exporter": "python",
   "pygments_lexer": "ipython3",
   "version": "3.9.12"
  }
 },
 "nbformat": 4,
 "nbformat_minor": 5
}
