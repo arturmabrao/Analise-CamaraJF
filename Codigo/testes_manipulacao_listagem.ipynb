{
 "cells": [
  {
   "cell_type": "code",
   "execution_count": null,
   "id": "85c4bf4a",
   "metadata": {},
   "outputs": [],
   "source": [
    "# Imports\n",
    "\n",
    "# Matemaricos e mapiulacao de dados\n",
    "import numpy as np\n",
    "import pandas as pd\n",
    "# Desligando alertas de chained_assignment\n",
    "pd.options.mode.chained_assignment = None  # default='warn'\n",
    "\n",
    "# Graficos\n",
    "#import matplotlib\n",
    "#import matplotlib.pyplot as plt\n",
    "#import seaborn as sns\n",
    "\n",
    "# Chamadas e tratamentos de dados\n",
    "import re\n",
    "import requests"
   ]
  },
  {
   "cell_type": "code",
   "execution_count": null,
   "id": "f27b87e7",
   "metadata": {},
   "outputs": [],
   "source": [
    "# Carregamento da listagem de propostas\n",
    "listagem = pd.DataFrame(pd.read_excel('../Listagem/listagem_12.xlsx'))"
   ]
  },
  {
   "cell_type": "code",
   "execution_count": null,
   "id": "940759b6",
   "metadata": {},
   "outputs": [],
   "source": [
    "# Limpeza de colunas vazias\n",
    "listagem = listagem.drop(listagem.columns[[1,3,5,7,9]], axis=1)\n",
    "\n",
    "# Antigo\n",
    "#listagem = listagem.drop('Unnamed: 1', axis=1)\n",
    "#listagem = listagem.drop('Unnamed: 3', axis=1)\n",
    "#listagem = listagem.drop('Unnamed: 5', axis=1)\n",
    "#listagem = listagem.drop('Unnamed: 7', axis=1)\n",
    "#listagem = listagem.drop('Unnamed: 9', axis=1)"
   ]
  },
  {
   "cell_type": "code",
   "execution_count": null,
   "id": "84809f35",
   "metadata": {},
   "outputs": [],
   "source": [
    "# Limpeza de linhas varias (NaN) - A SER FEITO\n",
    "listagem = listagem.dropna()"
   ]
  },
  {
   "cell_type": "code",
   "execution_count": null,
   "id": "522d5f1c",
   "metadata": {},
   "outputs": [],
   "source": [
    "#Criacao da coluna de codigo do tipo\n",
    "listagem['Cod_Tipo'] = ''\n"
   ]
  },
  {
   "cell_type": "code",
   "execution_count": null,
   "id": "582e078a",
   "metadata": {},
   "outputs": [],
   "source": [
    "for i in listagem.index:\n",
    "    #print(listagem[\"Tipo\"][i])\n",
    "    if(listagem[\"Tipo\"][i] == \"Requerimento\"):\n",
    "        listagem['Cod_Tipo'][i] = 'REQ'\n",
    "    elif(listagem[\"Tipo\"][i] == \"Projeto de Lei\"):\n",
    "        listagem['Cod_Tipo'][i] = 'PLEI'\n",
    "    elif(listagem[\"Tipo\"][i] == \"Projeto de Lei Complementar\"):\n",
    "        listagem['Cod_Tipo'][i] = 'PLEIC'\n",
    "    elif(listagem[\"Tipo\"][i] == \"Representação\"):\n",
    "        listagem['Cod_Tipo'][i] = 'PLEI'\n",
    "    elif(listagem[\"Tipo\"][i] == \"Projeto de Resolução\"):\n",
    "        listagem['Cod_Tipo'][i] = 'PRES'\n",
    "    elif(listagem[\"Tipo\"][i] == \"Pedido de Informação\"):\n",
    "        listagem['Cod_Tipo'][i] = 'PEDIF'\n",
    "    elif(listagem[\"Tipo\"][i] == \"Moção\"):\n",
    "        listagem['Cod_Tipo'][i] = 'MOC'\n",
    "    elif(listagem[\"Tipo\"][i] == \"Mensagem do Executivo (Projeto de Lei)\"):\n",
    "        listagem['Cod_Tipo'][i] = 'MSGPL'\n",
    "    elif(listagem[\"Tipo\"][i] == \"Indicação\"):\n",
    "        listagem['Cod_Tipo'][i] = 'IND'\n",
    "    elif(listagem[\"Tipo\"][i] == \"Projeto de Decreto Legislativo\"):\n",
    "        listagem['Cod_Tipo'][i] = 'PDL'\n",
    "    elif(listagem[\"Tipo\"][i] == \"Mensagem do Executivo\"):\n",
    "        listagem['Cod_Tipo'][i] = 'MSGEX'\n",
    "    elif(listagem[\"Tipo\"][i] == \"Mensagem do Executivo (Projeto de Lei Complementar)\"):\n",
    "        listagem['Cod_Tipo'][i] = 'MSGPC'\n",
    "    elif(listagem[\"Tipo\"][i] == \"Prestação de Contas\"):\n",
    "        listagem['Cod_Tipo'][i] = 'PTCTS'\n",
    "    elif(listagem[\"Tipo\"][i] == \"Projeto de Emenda à Lei Orgânica\"):\n",
    "        listagem['Cod_Tipo'][i] = 'PELOR'\n",
    "    elif(listagem[\"Tipo\"][i] == \"Projeto de Lei de Iniciativa Popular\"):\n",
    "        listagem['Cod_Tipo'][i] = 'PLEIP'\n",
    "    elif(listagem[\"Tipo\"][i] == \"Projeto de Resolução - Comissão de Exame Denúncia\"):\n",
    "        listagem['Cod_Tipo'][i] = 'PRCED'\n",
    "    elif(listagem[\"Tipo\"][i] == \"Proposta de Revisão da Lei Orgânica Municipal\"):\n",
    "        listagem['Cod_Tipo'][i] = 'PRLOM'\n",
    "    elif(listagem[\"Tipo\"][i] == \"Proposta de Revisão do Regimento Interno\"):\n",
    "        listagem['Cod_Tipo'][i] = 'PRRI'\n",
    "    elif(listagem[\"Tipo\"][i] == \"Requerimento Popular\"):\n",
    "        listagem['Cod_Tipo'][i] = 'RPO'\n",
    "    elif(listagem[\"Tipo\"][i] == \"Requerimento de CPI\"):\n",
    "        listagem['Cod_Tipo'][i] = 'RCPI'\n",
    "    else:\n",
    "        listagem['Cod_Tipo'][i] = 'DESCONHECIDO'"
   ]
  },
  {
   "cell_type": "code",
   "execution_count": null,
   "id": "f57a9261",
   "metadata": {},
   "outputs": [],
   "source": [
    "display(listagem)"
   ]
  },
  {
   "cell_type": "code",
   "execution_count": null,
   "id": "5a64fb6a",
   "metadata": {},
   "outputs": [],
   "source": [
    "# Consulta via rest - TESTES INICIAIS\n",
    "\n",
    "num_proj = int(listagem[\"Projeto\"][2])\n",
    "ano_proj = int(listagem[\"Ano\"][2])\n",
    "tipo_proj = listagem[\"Tipo_Abreviado\"][2]\n"
   ]
  },
  {
   "cell_type": "code",
   "execution_count": null,
   "id": "30920c25",
   "metadata": {},
   "outputs": [],
   "source": []
  }
 ],
 "metadata": {
  "kernelspec": {
   "display_name": "Python 3 (ipykernel)",
   "language": "python",
   "name": "python3"
  },
  "language_info": {
   "codemirror_mode": {
    "name": "ipython",
    "version": 3
   },
   "file_extension": ".py",
   "mimetype": "text/x-python",
   "name": "python",
   "nbconvert_exporter": "python",
   "pygments_lexer": "ipython3",
   "version": "3.9.12"
  }
 },
 "nbformat": 4,
 "nbformat_minor": 5
}
