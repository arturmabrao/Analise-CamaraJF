{
 "cells": [
  {
   "cell_type": "code",
   "execution_count": null,
   "id": "85c4bf4a",
   "metadata": {},
   "outputs": [],
   "source": [
    "import numpy as np\n",
    "import pandas as pd\n",
    "import matplotlib\n",
    "import matplotlib.pyplot as plt\n",
    "import seaborn as sns"
   ]
  },
  {
   "cell_type": "code",
   "execution_count": null,
   "id": "f27b87e7",
   "metadata": {},
   "outputs": [],
   "source": [
    "# Carregamento da listagem de propostas\n",
    "listagem = pd.DataFrame(pd.read_excel('../Listagem/listagem_12.xlsx'))\n",
    "#listagem"
   ]
  },
  {
   "cell_type": "code",
   "execution_count": null,
   "id": "940759b6",
   "metadata": {},
   "outputs": [],
   "source": [
    "# Limpeza de colunas vazias\n",
    "listagem = listagem.drop(listagem.columns[[1,3,5,7,9]], axis=1)\n",
    "\n",
    "#listagem = listagem.drop('Unnamed: 1', axis=1)\n",
    "#listagem = listagem.drop('Unnamed: 3', axis=1)\n",
    "#listagem = listagem.drop('Unnamed: 5', axis=1)\n",
    "#listagem = listagem.drop('Unnamed: 7', axis=1)\n",
    "#listagem = listagem.drop('Unnamed: 9', axis=1)"
   ]
  },
  {
   "cell_type": "code",
   "execution_count": null,
   "id": "84809f35",
   "metadata": {},
   "outputs": [],
   "source": [
    "# Limpeza de linhas varias (NaN) - A SER FEITO\n",
    "listagem = listagem.dropna()\n"
   ]
  },
  {
   "cell_type": "code",
   "execution_count": null,
   "id": "f57a9261",
   "metadata": {},
   "outputs": [],
   "source": [
    "display(listagem)"
   ]
  },
  {
   "cell_type": "code",
   "execution_count": null,
   "id": "76b15eed",
   "metadata": {},
   "outputs": [],
   "source": []
  },
  {
   "cell_type": "code",
   "execution_count": null,
   "id": "522d5f1c",
   "metadata": {},
   "outputs": [],
   "source": []
  }
 ],
 "metadata": {
  "kernelspec": {
   "display_name": "Python 3 (ipykernel)",
   "language": "python",
   "name": "python3"
  },
  "language_info": {
   "codemirror_mode": {
    "name": "ipython",
    "version": 3
   },
   "file_extension": ".py",
   "mimetype": "text/x-python",
   "name": "python",
   "nbconvert_exporter": "python",
   "pygments_lexer": "ipython3",
   "version": "3.9.12"
  }
 },
 "nbformat": 4,
 "nbformat_minor": 5
}
