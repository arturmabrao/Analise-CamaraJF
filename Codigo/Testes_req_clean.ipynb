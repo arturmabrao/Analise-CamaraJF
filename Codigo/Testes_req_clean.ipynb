{
 "cells": [
  {
   "cell_type": "code",
   "execution_count": 5,
   "id": "69e05dd0",
   "metadata": {},
   "outputs": [],
   "source": [
    "# Chamadas e tratamentos de dados\n",
    "import re\n",
    "import requests"
   ]
  },
  {
   "cell_type": "code",
   "execution_count": 6,
   "id": "9a3a7416",
   "metadata": {},
   "outputs": [
    {
     "name": "stdout",
     "output_type": "stream",
     "text": [
      "apv\n"
     ]
    }
   ],
   "source": [
    "\n",
    "# Variaveis de requisicao\n",
    "id_proj = 46415 #listagem[\"Id_Projeto\"][2]\n",
    "\n",
    "# Requisicao para o portal de propostas da Camara\n",
    "query = {\"num\": id_proj}\n",
    "#query = {\"numero\": 193600, \"ano\": 2012, \"tipo\": 'REQ'}\n",
    "resposta = requests.get('https://www.camarajf.mg.gov.br/sal/proposicao.php?', params=query)\n",
    "\n",
    "# Limpeza para pegar o id do projeto dentro da prefeitura\n",
    "retorno = (''.join(map(chr, resposta.content.upper())).replace(' ', ''))\n",
    "\n",
    "if(re.search('APROVAD', retorno)):\n",
    "    print('apv')\n",
    "else:\n",
    "    print('rep')\n",
    "\n",
    "#data_projeto = re.search('APROVAD', retorno).group(1)\n",
    "#data_projeto\n",
    "#listagem['Id_Projeto'][2] = id_projeto"
   ]
  },
  {
   "cell_type": "code",
   "execution_count": null,
   "id": "2a12d9ea",
   "metadata": {},
   "outputs": [],
   "source": [
    "# Preenchimento do campo Tramitacao_Encerrada\n",
    "count = 1\n",
    "failed_req= 0\n",
    "failed = False\n",
    "aprovado = ''\n",
    "max_failed_req = 5\n",
    "\n",
    "while count > 0:\n",
    "    for i in listagem.index:\n",
    "        if listagem['Cod_Tipo'][i] not in ('REQ', 'MOC', 'REP', 'PEDIF')\n",
    "            if listagem['Situacao'][i] != 'Arquivada':\n",
    "                        aprovado = 'SIM'\n",
    "                    else:\n",
    "                        aprovado = 'NAO'                \n",
    "            \n",
    "        elif listagem['Aprovado'][i] == '' and listagem['Cod_Tipo'][i] in ('REQ', 'MOC', 'REP', 'PEDIF'): \n",
    "            aprovado = ''\n",
    "            failed = False\n",
    "            \n",
    "            try:\n",
    "                # Variaveis de requisicao\n",
    "                id_proj = listagem['Id_Projeto'][i]\n",
    "\n",
    "                # Requisicao para o portal de propostas da Camara\n",
    "                query = {\"num\": id_proj}\n",
    "                #query = {\"numero\": 44920}\n",
    "                resposta = requests.get('https://www.camarajf.mg.gov.br/sal/proposicao.php?', params=query)\n",
    "\n",
    "                try:\n",
    "                    # Limpeza para pegar o id do projeto dentro da prefeitura\n",
    "                    retorno = (''.join(map(chr, resposta.content.upper())).replace(' ', ''))\n",
    "                    #tramitacao_encerrada = re.search('FIMTRAMITA&CCEDIL;&ATILDE;O:(.+?)\\t\\t\\t\\t\\t\\t', retorno).group(1)\n",
    "                    \n",
    "                    if(re.search('APROVAD', retorno)):\n",
    "                        aprovado = 'SIM'\n",
    "                    else:\n",
    "                        aprovado = 'NAO'\n",
    "                except:\n",
    "                    aprovado = 'Imprecisao no padrao'\n",
    "            except:\n",
    "                failed = True\n",
    "\n",
    "            listagem['Aprovado'][i] = aprovado\n",
    "            time.sleep(0.5)\n",
    "            \n",
    "        if failed:\n",
    "            failed_req += 1\n",
    "        else:\n",
    "            filed_req = 0\n",
    "                \n",
    "#       Se houve 5 falhas consecutivas\n",
    "        if failed_req > max_failed_req:\n",
    "            break\n",
    "            \n",
    "    if failed_req > max_failed_req:\n",
    "        break               \n",
    "            \n",
    "    count = 0          \n",
    "\n",
    "    for i in listagem.index:\n",
    "        if listagem['Aprovado'][i] == '':\n",
    "            count +=1\n",
    "\n",
    "if failed_req > max_failed_req:\n",
    "    print('O endpoint nao esta respondendo, verifique a conexao. Fim do processo')\n",
    "else:\n",
    "    print('Fim do processo')"
   ]
  }
 ],
 "metadata": {
  "kernelspec": {
   "display_name": "Python 3 (ipykernel)",
   "language": "python",
   "name": "python3"
  },
  "language_info": {
   "codemirror_mode": {
    "name": "ipython",
    "version": 3
   },
   "file_extension": ".py",
   "mimetype": "text/x-python",
   "name": "python",
   "nbconvert_exporter": "python",
   "pygments_lexer": "ipython3",
   "version": "3.9.12"
  }
 },
 "nbformat": 4,
 "nbformat_minor": 5
}
