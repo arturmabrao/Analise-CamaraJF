{
 "cells": [
  {
   "cell_type": "code",
   "execution_count": 2,
   "id": "69e05dd0",
   "metadata": {},
   "outputs": [],
   "source": [
    "# Chamadas e tratamentos de dados\n",
    "import re\n",
    "import requests"
   ]
  },
  {
   "cell_type": "code",
   "execution_count": 10,
   "id": "9a3a7416",
   "metadata": {},
   "outputs": [
    {
     "data": {
      "text/plain": [
       "'<HTML>\\r\\n<HEAD>\\r\\n<TITLE>CMJF-IS@L-SISTEMADEACOMPANHAMENTODOLEGISLATIVO</TITLE>\\r\\n\\t\\t<LINKREL=\"STYLESHEET\"HREF=\"../FONTS/FONT-AWESOME-4.7.0/CSS/FONT-AWESOME.MIN.CSS\">\\r\\n<SCRIPTLANGUAGE=JAVASCRIPT>\\r\\n\\t\\t<!--\\r\\n\\t\\tVARIMPRESSO=FALSE;\\r\\n\\t\\t\\r\\nFUNCTIONDOPRINTING(){\\r\\n\\r\\nIF(IMPRESSO==TRUE){\\r\\nWINDOW.LOCATION.RELOAD();\\r\\n\\t\\t\\t\\tDOCUMENT.GETELEMENTBYID(\"IMPRIMIR\").STYLE.DISPLAY=\"INLINE\";\\r\\nIMPRESSO=FALSE;\\r\\n}ELSE{\\r\\nDOCUMENT.GETELEMENTBYID(\"IMPRIMIR\").STYLE.DISPLAY=\"NONE\";\\r\\nIMPRESSO=TRUE;\\r\\nWINDOW.PRINT();\\r\\n}\\r\\nSETTIMEOUT(\"DOPRINTING();\",3000);\\r\\n}\\t\\t\\r\\n\\t\\t\\r\\n-->\\r\\n</SCRIPT>\\t\\t\\t\\r\\n\\t\\t\\r\\n</HEAD>\\r\\n<BODYBGCOLOR=\"#FFFFFF\">\\r\\n\\r\\n<TABLEBORDER=\"0\"WIDTH=\"100%\">\\r\\n<TR>\\r\\n<TDWIDTH=\"120\">\\r\\n<IMGSRC=\"HTTP://WWW.CAMARAJF.MG.GOV.BR/IMAGES/BRASAOTRANSP.GIF\"WIDTH=\"90\"HEIGHT=\"98\"BORDER=\"0\"ALT=\"BRAS&ATILDE;ODEJUIZDEFORA\"></TD>\\r\\n<TDALIGN=\"CENTER\">\\r\\n<FONTFACE=\"ARIAL\"><FONTFACE=\"ARIAL\"SIZE=\"5\">CÂMARAMUNICIPALDEJUIZDEFORA</FONT><BR>\\r\\n\\t\\t\\t\\r\\n</TD>\\r\\n</TR>\\r\\n</TABLE>\\r\\n<HR>\\r\\n<FONTFACE=\"COURIERNEW,ARIAL,VERDANA\">\\r\\n<CENTER>\\r\\n<TABLEWIDTH=\"98%\"BORDER=\"0\">\\r\\n<TR>\\r\\n<TDWIDTH=\"10%\"ALIGN=\"RIGHT\"VALIGN=\"TOP\">\\r\\n<FONTSIZE=\"3\"><B>PROPOSI&CCEDIL;&ATILDE;O:</B></FONT>\\r\\n</TD>\\r\\n<TD>\\r\\n<FONTSIZE=\"3\"><B>REQ-REQUERIMENTO<BR>\\r\\n<FONTFACE=\"COURIERNEW,ARIAL,VERDANA\">N&UACUTE;MERO</FONT>:36840/2013&NBSP;&NBSP;-&NBSP;&NBSP;PROCESSO:3093-00/2000</B></FONT>\\r\\n</TD>\\r\\n</TR>\\r\\n<TR>\\r\\n<TDWIDTH=\"10%\"ALIGN=\"RIGHT\"VALIGN=\"TOP\">\\r\\n<B><FONTSIZE=\"2\">AUTOR(ES):</FONT></B>\\r\\n</TD>\\r\\n<TD>\\r\\n<FONTSIZE=\"2\">LUIZOTáVIOFERNANDESCOELHO-PARDAL</FONT>\\r\\n</TD>\\r\\n</TR>\\r\\n<TR>\\r\\n<TDWIDTH=\"10%\"ALIGN=\"RIGHT\"VALIGN=\"TOP\">\\r\\n<B><FONTSIZE=\"2\">EMENTA:</FONT></B>\\r\\n</TD>\\r\\n<TD>\\r\\n<PALIGN=\"JUSTIFY\"><FONTSIZE=\"2\">SOLICITARECAPEMAMENTOASFáLTICONARUAORLANDO|RIANI,NOBAIRRONOSSASENHORAAPARECIDA.</FONT></P>\\r\\n</TD>\\r\\n</TR>\\r\\n\\t\\t<TR>\\r\\n<TDWIDTH=\"10%\"ALIGN=\"RIGHT\"VALIGN=\"TOP\">\\r\\n<B><FONTSIZE=\"2\">SITUA&CCEDIL;&ATILDE;O:</FONT></B>\\r\\n</TD>\\r\\n<TD>\\r\\n<PALIGN=\"JUSTIFY\"><FONTSIZE=\"2\">\\r\\n\\t\\t\\tEMTRAMITA&CCEDIL;&ATILDE;O\\t\\t\\t</FONT></P>\\r\\n</TD>\\r\\n</TR>\\r\\n\\t\\t</TR>\\r\\n\\r\\n\\t\\t\\t\\r\\n\\r\\n<TR>\\r\\n<TDCOLSPAN=\"2\">&NBSP;\\r\\n\\r\\n</TD>\\r\\n</TR>\\r\\n\\r\\n\\r\\n<TR>\\r\\n<TDWIDTH=\"10%\"ALIGN=\"RIGHT\"VALIGN=\"TOP\">\\r\\n<B><FONTSIZE=\"2\">TEXTOS:</FONT></B>\\r\\n</TD>\\r\\n<TD>\\r\\n<FONTSIZE=\"2\"><AHREF=\"TEXTOP.PHP?IDT=96242\">REQUERIMENTO</A></FONT>\\r\\n</TD>\\r\\n</TR><TDWIDTH=\"10%\">\\r\\n&NBSP;\\r\\n</TD>\\r\\n<TD>\\r\\n<HR>\\r\\n</TD>\\r\\n</TR>\\r\\n\\r\\n</TABLE>\\r\\n<TABLEWIDTH=\"98%\"BORDER=\"0\">\\r\\n\\r\\n\\r\\n\\r\\n\\r\\n</TABLE>\\r\\n</CENTER>\\r\\n</FONT>\\r\\n\\r\\n\\r\\n<DIVID=\"IMPRIMIR\"ALIGN=\"CENTER\"STYLE=\"POSITION:RELATIVE;\">\\r\\n\\r\\n<INPUTSTYLE=\"BORDER:0;PADDING:5PX15PX;FONT-WEIGHT:BOLD;FONT-SIZE:12PX;COLOR:#FFF;BACKGROUND-COLOR:#6B6B6B;MARGIN:5PX010PX;\"TYPE=BUTTONVALUE=\"IMPRIMIR\"ONCLICK=\"JAVASCRIPT:DOPRINTING()\">\\r\\n\\r\\n\\r\\n<INPUTSTYLE=\"BORDER:0;PADDING:5PX15PX;FONT-WEIGHT:BOLD;FONT-SIZE:12PX;COLOR:#FFF;BACKGROUND-COLOR:#6B6B6B;MARGIN:5PX010PX;\"TYPE=BUTTONVALUE=\"FECHAR\"ONCLICK=\"JAVASCRIPT:WINDOW.CLOSE();\">\\r\\n<HR>\\r\\n</DIV>\\r\\n\\r\\n<CENTER>\\r\\n<FONTSIZE=\"1\"FACE=\"ARIAL\"><AHREF=\"HTTP://WWW.CAMARAJF.MG.GOV.BR/\"TARGET=\"_TOP\">[CMJF-C&ACIRC;MARAMUNICIPALDEJUIZDEFORA]</A>&NBSP;<AHREF=\"HTTP://WWW.CAMARAJF.MG.GOV.BR/SAL/\"TARGET=\"_TOP\">[<I>I</I>S@L]</A></FONT>\\r\\n</CENTER>\\r\\n</BODY>\\r\\n</HTML>\\r\\n'"
      ]
     },
     "execution_count": 10,
     "metadata": {},
     "output_type": "execute_result"
    }
   ],
   "source": [
    "\n",
    "# Variaveis de requisicao\n",
    "id_proj = 43978 #listagem[\"Id_Projeto\"][2]\n",
    "\n",
    "# Requisicao para o portal de propostas da Camara\n",
    "query = {\"num\": id_proj}\n",
    "#query = {\"numero\": 193600, \"ano\": 2012, \"tipo\": 'REQ'}\n",
    "resposta = requests.get('https://www.camarajf.mg.gov.br/sal/proposicao.php?', params=query)\n",
    "\n",
    "# Limpeza para pegar o id do projeto dentro da prefeitura\n",
    "retorno = (''.join(map(chr, resposta.content.upper())).replace(' ', ''))\n",
    "retorno\n",
    "#data_projeto = re.search('FIMTRAMITA&CCEDIL;&ATILDE;O:(.+?)\\t\\t\\t\\t\\t\\t', retorno).group(1)\n",
    "#data_projeto\n",
    "#listagem['Id_Projeto'][2] = id_projeto"
   ]
  },
  {
   "cell_type": "code",
   "execution_count": null,
   "id": "2a12d9ea",
   "metadata": {},
   "outputs": [],
   "source": [
    "# Preenchimento do campo Tramitacao_Encerrada\n",
    "count = 1\n",
    "failed_req= 0\n",
    "failed = False\n",
    "tramitacao_encerrada = ''\n",
    "max_failed_req = 5\n",
    "\n",
    "while count > 0:\n",
    "\n",
    "    for i in listagem.index:\n",
    "\n",
    "        if listagem['Tramitacao_Encerrada'][i] == '': \n",
    "            tramitacao_encerrada = ''\n",
    "            failed = False\n",
    "            \n",
    "            try:\n",
    "                # Variaveis de requisicao\n",
    "                id_proj = listagem['Id_Projeto'][i]\n",
    "\n",
    "                # Requisicao para o portal de propostas da Camara\n",
    "                query = {\"num\": id_proj}\n",
    "                #query = {\"numero\": 44920}\n",
    "                resposta = requests.get('https://www.camarajf.mg.gov.br/sal/proposicao.php?', params=query)\n",
    "\n",
    "                # Limpeza para pegar o id do projeto dentro da prefeitura\n",
    "                retorno = (''.join(map(chr, resposta.content.upper())).replace(' ', ''))\n",
    "\n",
    "                try:\n",
    "                    tramitacao_encerrada = re.search('FIMTRAMITA&CCEDIL;&ATILDE;O:(.+?)\\t\\t\\t\\t\\t\\t', retorno).group(1)\n",
    "                except:\n",
    "                    tramitacao_encerrada = 'Informacao nao encontrada'\n",
    "            except:\n",
    "                failed = True\n",
    "\n",
    "            listagem['Tramitacao_Encerrada'][i] = tramitacao_encerrada\n",
    "\n",
    "            time.sleep(0.5)\n",
    "            \n",
    "        if failed:\n",
    "            failed_req += 1\n",
    "        else:\n",
    "            filed_req = 0\n",
    "                \n",
    "#       Se houve 5 falhas consecutivas\n",
    "        if failed_req > max_failed_req:\n",
    "            break\n",
    "            \n",
    "    if failed_req > max_failed_req:\n",
    "        break               \n",
    "            \n",
    "    count = 0          \n",
    "\n",
    "    for i in listagem.index:\n",
    "\n",
    "        if listagem['Tramitacao_Encerrada'][i] == '':\n",
    "            count +=1\n",
    "\n",
    "\n",
    "if failed_req > max_failed_req:\n",
    "    print('O endpoint nao esta respondendo, verifique a conexao. Fim do processo')\n",
    "else:\n",
    "    print('Fim do processo')"
   ]
  }
 ],
 "metadata": {
  "kernelspec": {
   "display_name": "Python 3 (ipykernel)",
   "language": "python",
   "name": "python3"
  },
  "language_info": {
   "codemirror_mode": {
    "name": "ipython",
    "version": 3
   },
   "file_extension": ".py",
   "mimetype": "text/x-python",
   "name": "python",
   "nbconvert_exporter": "python",
   "pygments_lexer": "ipython3",
   "version": "3.9.12"
  }
 },
 "nbformat": 4,
 "nbformat_minor": 5
}
