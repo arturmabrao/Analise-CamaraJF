{
 "cells": [
  {
   "cell_type": "code",
   "execution_count": 2,
   "id": "cf0c8009",
   "metadata": {},
   "outputs": [],
   "source": [
    "import pandas as pd\n",
    "\n",
    "from datetime import date"
   ]
  },
  {
   "cell_type": "code",
   "execution_count": null,
   "id": "cd5d79f1",
   "metadata": {},
   "outputs": [],
   "source": [
    "l12 = pd.DataFrame(pd.read_excel('../Listagem/TestesExport/listagem_12.xlsx'))\n",
    "l12 = l12.drop(l12.columns[[1,3,5,7,9]], axis=1)\n",
    "l12 = l12.dropna()\n",
    "#l12"
   ]
  },
  {
   "cell_type": "code",
   "execution_count": null,
   "id": "3806460e",
   "metadata": {},
   "outputs": [],
   "source": [
    "#l12.to_csv('../ListagemExp/l.csv', encoding = 'utf-8', index = False)\n",
    "l12.to_csv('../ListagemExp/l.csv', mode='a', encoding = 'utf-8', index=False, header=True)\n",
    "l13.to_csv('../ListagemExp/l.csv', mode='a', encoding = 'utf-8', index=False, header=False)"
   ]
  },
  {
   "cell_type": "code",
   "execution_count": null,
   "id": "96223b01",
   "metadata": {},
   "outputs": [],
   "source": [
    "l13 = pd.DataFrame(pd.read_excel('../Listagem/TestesExport/listagem_13.xlsx'))\n",
    "l13 = l13.drop(l13.columns[[1,3,5,7,9]], axis=1)\n",
    "l13 = l13.dropna()\n",
    "#l13"
   ]
  },
  {
   "cell_type": "code",
   "execution_count": null,
   "id": "fd9cf20b",
   "metadata": {},
   "outputs": [],
   "source": [
    "path_to_file = '../ListagemExp/TestesExport/ListagemExport.csv'\n",
    "exp_columns = [\"Projeto\", \"Ano\", \"Autor\"]\n",
    "exp_header = True\n",
    "\n",
    "l13.to_csv(path_to_file, mode='a', encoding = 'utf-8', index=False, header=exp_header, columns=exp_columns)"
   ]
  },
  {
   "cell_type": "code",
   "execution_count": 13,
   "id": "c4d41147",
   "metadata": {},
   "outputs": [
    {
     "ename": "TypeError",
     "evalue": "unsupported operand type(s) for -: 'datetime.date' and 'int'",
     "output_type": "error",
     "traceback": [
      "\u001b[1;31m---------------------------------------------------------------------------\u001b[0m",
      "\u001b[1;31mTypeError\u001b[0m                                 Traceback (most recent call last)",
      "Input \u001b[1;32mIn [13]\u001b[0m, in \u001b[0;36m<cell line: 1>\u001b[1;34m()\u001b[0m\n\u001b[1;32m----> 1\u001b[0m today \u001b[38;5;241m=\u001b[39m \u001b[43m(\u001b[49m\u001b[43mdate\u001b[49m\u001b[38;5;241;43m.\u001b[39;49m\u001b[43mtoday\u001b[49m\u001b[43m(\u001b[49m\u001b[43m)\u001b[49m\u001b[43m)\u001b[49m\u001b[38;5;241;43m-\u001b[39;49m\u001b[38;5;241;43m1\u001b[39;49m\n\u001b[0;32m      2\u001b[0m dt \u001b[38;5;241m=\u001b[39m today\u001b[38;5;241m.\u001b[39mstrftime(\u001b[38;5;124m\"\u001b[39m\u001b[38;5;124m%\u001b[39m\u001b[38;5;124mY-\u001b[39m\u001b[38;5;124m%\u001b[39m\u001b[38;5;124mm-\u001b[39m\u001b[38;5;132;01m%d\u001b[39;00m\u001b[38;5;124m\"\u001b[39m)\n\u001b[0;32m      4\u001b[0m file \u001b[38;5;241m=\u001b[39m \u001b[38;5;124m'\u001b[39m\u001b[38;5;124mListagemExport17_Incompleta_\u001b[39m\u001b[38;5;124m'\u001b[39m \u001b[38;5;241m+\u001b[39m today\u001b[38;5;241m.\u001b[39mstrftime(\u001b[38;5;124m\"\u001b[39m\u001b[38;5;124m%\u001b[39m\u001b[38;5;124mY-\u001b[39m\u001b[38;5;124m%\u001b[39m\u001b[38;5;124mm-\u001b[39m\u001b[38;5;132;01m%d\u001b[39;00m\u001b[38;5;124m\"\u001b[39m)\n",
      "\u001b[1;31mTypeError\u001b[0m: unsupported operand type(s) for -: 'datetime.date' and 'int'"
     ]
    }
   ],
   "source": [
    "\n",
    "today = date.today()\n",
    "file = 'ListagemExport17_Incompleta_' + today.strftime(\"%Y-%m-%d\")\n",
    "path_to_file = '../ListagemExp/'+file+'.csv'\n",
    "#path = Path(path_to_file)\n",
    "\n",
    "\n",
    "print(path_to_file)"
   ]
  }
 ],
 "metadata": {
  "kernelspec": {
   "display_name": "Python 3 (ipykernel)",
   "language": "python",
   "name": "python3"
  },
  "language_info": {
   "codemirror_mode": {
    "name": "ipython",
    "version": 3
   },
   "file_extension": ".py",
   "mimetype": "text/x-python",
   "name": "python",
   "nbconvert_exporter": "python",
   "pygments_lexer": "ipython3",
   "version": "3.9.12"
  }
 },
 "nbformat": 4,
 "nbformat_minor": 5
}
