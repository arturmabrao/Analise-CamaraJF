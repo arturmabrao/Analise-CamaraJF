{
 "cells": [
  {
   "cell_type": "code",
   "execution_count": null,
   "id": "01894e9b",
   "metadata": {},
   "outputs": [],
   "source": [
    "import pandas as pd"
   ]
  },
  {
   "cell_type": "code",
   "execution_count": null,
   "id": "ad17e62f",
   "metadata": {},
   "outputs": [],
   "source": [
    "l13 = pd.DataFrame(pd.read_excel('../Listagem/listagem_13.xlsx'))\n",
    "l13 = l13.drop(l13.columns[[1,3,5,7,9]], axis=1)\n",
    "l13 = l13.dropna()\n",
    "#l13"
   ]
  },
  {
   "cell_type": "code",
   "execution_count": null,
   "id": "d93efaa9",
   "metadata": {},
   "outputs": [],
   "source": [
    "l12 = pd.DataFrame(pd.read_excel('../Listagem/listagem_12.xlsx'))\n",
    "l12 = l12.drop(l12.columns[[1,3,5,7,9]], axis=1)\n",
    "l12 = l12.dropna()\n",
    "#l12"
   ]
  },
  {
   "cell_type": "code",
   "execution_count": null,
   "id": "4022766b",
   "metadata": {},
   "outputs": [],
   "source": [
    "#l12.to_csv('../ListagemExp/l.csv', encoding = 'utf-8', index = False)\n",
    "l12.to_csv('../ListagemExp/l.csv', mode='a', encoding = 'utf-8', index=False), header=True)\n",
    "l13.to_csv('../ListagemExp/l.csv', mode='a', encoding = 'utf-8', index=False, header=False)"
   ]
  }
 ],
 "metadata": {
  "kernelspec": {
   "display_name": "Python 3 (ipykernel)",
   "language": "python",
   "name": "python3"
  },
  "language_info": {
   "codemirror_mode": {
    "name": "ipython",
    "version": 3
   },
   "file_extension": ".py",
   "mimetype": "text/x-python",
   "name": "python",
   "nbconvert_exporter": "python",
   "pygments_lexer": "ipython3",
   "version": "3.9.12"
  }
 },
 "nbformat": 4,
 "nbformat_minor": 5
}
