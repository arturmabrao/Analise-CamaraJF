{
 "cells": [
  {
   "cell_type": "code",
   "execution_count": null,
   "id": "66619bf5",
   "metadata": {},
   "outputs": [],
   "source": [
    "import pandas as pd\n",
    "pd.options.mode.chained_assignment = None  # default='warn'\n",
    "\n",
    "import re\n",
    "import requests\n",
    "from bs4 import BeautifulSoup\n",
    "\n",
    "import time\n",
    "from pathlib import Path\n",
    "\n",
    "# GetDate\n",
    "from datetime import datetime #,  date\n",
    "\n",
    "import glob\n",
    "import os.path\n",
    "\n",
    "# Desativacao de warning\n",
    "import warnings\n",
    "warnings.simplefilter(action='ignore', category=FutureWarning)\n"
   ]
  },
  {
   "cell_type": "code",
   "execution_count": null,
   "id": "83ff601c",
   "metadata": {},
   "outputs": [],
   "source": [
    "#Reimportando arquivo - caso execucao tenha sido pausada\n",
    "#Identificacao de arquivo mais recente\n",
    "folder_path = r'./ARQ/'\n",
    "file_type = r'/*csv'\n",
    "files = glob.glob(folder_path + file_type)\n",
    "max_file = max(files, key=os.path.getctime)\n",
    "\n",
    "path_to_file = max_file.replace('\\\\','/')\n",
    "\n",
    "#Em caso de definicao manual usar esta linha\n",
    "#path_to_file = './ARQ/Listagem_13-22.csv'\n",
    "\n",
    "listagem = pd.read_csv(path_to_file,\n",
    "                       usecols= ['Projeto','Ano','Tipo','Ementa','Situacao','Autor','Codigo_Tipo'\n",
    "                                 ,'Id_Projeto_Camara','Data_Projeto','Tramitacao_Encerrada','Aprovado'])\n",
    "\n",
    "#Substitundo valores\n",
    "listagem['Aprovado'] = listagem['Aprovado'].fillna('')\n",
    "listagem['Tramitacao_Encerrada'] = listagem['Tramitacao_Encerrada'].fillna('')\n",
    "listagem['Data_Projeto'] = listagem['Data_Projeto'].fillna('')\n",
    "listagem['Codigo_Tipo'] = listagem['Codigo_Tipo'].fillna('')\n",
    "\n",
    "listagem['Id_Projeto_Camara'] = listagem['Id_Projeto_Camara'].fillna(0)\n",
    "listagem['Id_Projeto_Camara'] = listagem['Id_Projeto_Camara'].astype(int)"
   ]
  },
  {
   "cell_type": "code",
   "execution_count": null,
   "id": "d8c0a424",
   "metadata": {},
   "outputs": [],
   "source": [
    "id_negativo = -1\n",
    "\n",
    "for i in listagem.index:\n",
    "    if listagem['Id_Projeto_Camara'][i] == 0:\n",
    "        listagem['Id_Projeto_Camara'][i] = id_negativo\n",
    "        id_negativo -= 1\n",
    "        \n",
    "print(id_negativo)"
   ]
  },
  {
   "cell_type": "code",
   "execution_count": null,
   "id": "4704ddf0",
   "metadata": {},
   "outputs": [],
   "source": [
    "#Exportacao do dataframe no estado atual\n",
    "\n",
    "now = datetime.now()\n",
    "dthr_finalizado = now.strftime(\"%d-%m-%Y_%H-%M-%S\")\n",
    "\n",
    "try:\n",
    "#if True:\n",
    "# Exportacao da listagem no estado atual para arquivo csv\n",
    "    file = 'ListagemExport_checkpoint_' + dthr_finalizado\n",
    "    #path_to_file = '../ListagemExp/'+file+'.csv'\n",
    "    path_to_file = './ARQ/'+file+'.csv'\n",
    "    path = Path(path_to_file)\n",
    "\n",
    "    exp_columns = ['Projeto', 'Ano', 'Tipo', 'Ementa', 'Situacao', 'Autor','Codigo_Tipo', \n",
    "                    'Id_Projeto_Camara', 'Data_Projeto','Tramitacao_Encerrada','Aprovado']\n",
    "\n",
    "    if path.is_file():\n",
    "        exp_header = False\n",
    "    else:    \n",
    "        exp_header = True\n",
    "\n",
    "    listagem.to_csv(path_to_file, mode='a', encoding = 'utf-8', index=False, header=exp_header, columns=exp_columns) \n",
    "\n",
    "    export = True\n",
    "\n",
    "#else:\n",
    "except:\n",
    "    export = False\n",
    "\n",
    "    \n",
    "print(export)"
   ]
  },
  {
   "cell_type": "code",
   "execution_count": null,
   "id": "ae219157",
   "metadata": {},
   "outputs": [],
   "source": []
  }
 ],
 "metadata": {
  "kernelspec": {
   "display_name": "Python 3 (ipykernel)",
   "language": "python",
   "name": "python3"
  },
  "language_info": {
   "codemirror_mode": {
    "name": "ipython",
    "version": 3
   },
   "file_extension": ".py",
   "mimetype": "text/x-python",
   "name": "python",
   "nbconvert_exporter": "python",
   "pygments_lexer": "ipython3",
   "version": "3.9.12"
  }
 },
 "nbformat": 4,
 "nbformat_minor": 5
}
