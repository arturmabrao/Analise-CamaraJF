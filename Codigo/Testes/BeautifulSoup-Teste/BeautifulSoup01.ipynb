{
 "cells": [
  {
   "cell_type": "code",
   "execution_count": null,
   "id": "1a28e477",
   "metadata": {},
   "outputs": [],
   "source": [
    "import requests\n",
    "from bs4 import BeautifulSoup"
   ]
  },
  {
   "cell_type": "code",
   "execution_count": null,
   "id": "ee6f96d4",
   "metadata": {},
   "outputs": [],
   "source": [
    "\n",
    "# Variaveis de requisicao\n",
    "#id_proj = 56131 #listagem[\"Id_Projeto\"][2]\n",
    "id_proj = 37776 #listagem[\"Id_Projeto\"][2]\n",
    "\n",
    "# Requisicao para o portal de propostas da Camara\n",
    "#query = {\"num\": id_proj}\n",
    "query = {\"numero\": 193600, \"ano\": 2012, \"tipo\": 'REQ'}\n",
    "resposta = requests.get('https://www.camarajf.mg.gov.br/sal/listapropos.php?', params=query)\n",
    "\n",
    "\n",
    "soup = BeautifulSoup(resposta.content, \"html.parser\")\n",
    "\n",
    "print(soup)"
   ]
  },
  {
   "cell_type": "code",
   "execution_count": null,
   "id": "181a8638",
   "metadata": {},
   "outputs": [],
   "source": []
  }
 ],
 "metadata": {
  "kernelspec": {
   "display_name": "Python 3 (ipykernel)",
   "language": "python",
   "name": "python3"
  },
  "language_info": {
   "codemirror_mode": {
    "name": "ipython",
    "version": 3
   },
   "file_extension": ".py",
   "mimetype": "text/x-python",
   "name": "python",
   "nbconvert_exporter": "python",
   "pygments_lexer": "ipython3",
   "version": "3.9.12"
  }
 },
 "nbformat": 4,
 "nbformat_minor": 5
}
