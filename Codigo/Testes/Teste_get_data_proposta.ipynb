{
 "cells": [
  {
   "cell_type": "code",
   "execution_count": null,
   "id": "cc7eb64e",
   "metadata": {},
   "outputs": [],
   "source": [
    "# Chamadas e tratamentos de dados\n",
    "import re\n",
    "import requests"
   ]
  },
  {
   "cell_type": "code",
   "execution_count": null,
   "id": "36f8da03",
   "metadata": {},
   "outputs": [],
   "source": [
    "\n",
    "# Variaveis de requisicao\n",
    "id_proj = 37776 #listagem[\"Id_Projeto\"][2]\n",
    "\n",
    "# Requisicao para o portal de propostas da Camara\n",
    "query = {\"num\": id_proj}\n",
    "#query = {\"numero\": 193600, \"ano\": 2012, \"tipo\": 'REQ'}\n",
    "resposta = requests.get('https://www.camarajf.mg.gov.br/sal/proposicao.php?', params=query)\n",
    "\n",
    "# Limpeza para pegar o id do projeto dentro da prefeitura\n",
    "retorno = (''.join(map(chr, resposta.content.upper())).replace(' ', ''))\n",
    "data_projeto = re.search('PER&IACUTE;ODO:(.+?)A', retorno).group(1)#.replace('?NUM=','').replace('\"','')\n",
    "data_projeto\n",
    "#listagem['Id_Projeto'][2] = id_projeto"
   ]
  },
  {
   "cell_type": "code",
   "execution_count": null,
   "id": "1080b5ed",
   "metadata": {},
   "outputs": [],
   "source": []
  }
 ],
 "metadata": {
  "kernelspec": {
   "display_name": "Python 3 (ipykernel)",
   "language": "python",
   "name": "python3"
  },
  "language_info": {
   "codemirror_mode": {
    "name": "ipython",
    "version": 3
   },
   "file_extension": ".py",
   "mimetype": "text/x-python",
   "name": "python",
   "nbconvert_exporter": "python",
   "pygments_lexer": "ipython3",
   "version": "3.9.12"
  }
 },
 "nbformat": 4,
 "nbformat_minor": 5
}
