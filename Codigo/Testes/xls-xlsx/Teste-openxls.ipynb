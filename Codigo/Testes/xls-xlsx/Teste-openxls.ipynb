{
 "cells": [
  {
   "cell_type": "code",
   "execution_count": 7,
   "id": "590e9ed3",
   "metadata": {},
   "outputs": [],
   "source": [
    "import pyexcel as pe\n",
    "sheet = pe.get_sheet(file_name=\"listagem2.xls\")\n",
    "#sheet = pe.get_sheet(file_name=\"listagem.xls\")"
   ]
  },
  {
   "cell_type": "code",
   "execution_count": 8,
   "id": "1e7346a3",
   "metadata": {},
   "outputs": [
    {
     "data": {
      "text/plain": [
       "Sheet1:\n",
       "+---------+---+------+---+-------+---+-------+---+--------------------------------------------------------------------------------------------------------------------------------------------+---+---------------+\n",
       "| Projeto |   | Ano  |   | Tipo  |   | Autor |   | Ementa                                                                                                                                     |   | Situação      |\n",
       "+---------+---+------+---+-------+---+-------+---+--------------------------------------------------------------------------------------------------------------------------------------------+---+---------------+\n",
       "| 1000    |   | 2013 |   | Moção |   | Betão |   | Moção de Repúdio ao Governo do Estado de Minas Gerais, através da Secretaria de Estado da Educação, que publicou a Resolução n° 2253/2013. |   | Em Tramitação |\n",
       "+---------+---+------+---+-------+---+-------+---+--------------------------------------------------------------------------------------------------------------------------------------------+---+---------------+"
      ]
     },
     "metadata": {},
     "output_type": "display_data"
    }
   ],
   "source": [
    "display(sheet)"
   ]
  }
 ],
 "metadata": {
  "kernelspec": {
   "display_name": "Python 3 (ipykernel)",
   "language": "python",
   "name": "python3"
  },
  "language_info": {
   "codemirror_mode": {
    "name": "ipython",
    "version": 3
   },
   "file_extension": ".py",
   "mimetype": "text/x-python",
   "name": "python",
   "nbconvert_exporter": "python",
   "pygments_lexer": "ipython3",
   "version": "3.9.12"
  }
 },
 "nbformat": 4,
 "nbformat_minor": 5
}
