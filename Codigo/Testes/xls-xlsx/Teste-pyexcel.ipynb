{
 "cells": [
  {
   "cell_type": "code",
   "execution_count": 2,
   "id": "b18670ef",
   "metadata": {},
   "outputs": [],
   "source": [
    "import pyexcel as p"
   ]
  },
  {
   "cell_type": "code",
   "execution_count": 7,
   "id": "dc97c396",
   "metadata": {},
   "outputs": [],
   "source": [
    "p.save_as(file_name=\"listagem2.xls\",dest_file_name=\"listagem2.xlsx\")"
   ]
  }
 ],
 "metadata": {
  "kernelspec": {
   "display_name": "Python 3 (ipykernel)",
   "language": "python",
   "name": "python3"
  },
  "language_info": {
   "codemirror_mode": {
    "name": "ipython",
    "version": 3
   },
   "file_extension": ".py",
   "mimetype": "text/x-python",
   "name": "python",
   "nbconvert_exporter": "python",
   "pygments_lexer": "ipython3",
   "version": "3.9.12"
  }
 },
 "nbformat": 4,
 "nbformat_minor": 5
}
