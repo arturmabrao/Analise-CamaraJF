{
 "cells": [
  {
   "cell_type": "code",
   "execution_count": 1,
   "id": "6c67653d",
   "metadata": {},
   "outputs": [],
   "source": [
    "import re\n",
    "import requests\n",
    "from bs4 import BeautifulSoup"
   ]
  },
  {
   "cell_type": "code",
   "execution_count": null,
   "id": "5280a9e6",
   "metadata": {},
   "outputs": [],
   "source": [
    "#Reimportando arquivo - caso execucao tenha sido pausada\n",
    "path_to_file = 'ListagemExport_teste.csv'\n",
    "\n",
    "listagem = pd.read_csv(path_to_file,\n",
    "                       usecols= ['Projeto','Ano','Tipo','Ementa','Situacao','Autor','Codigo_Tipo'\n",
    "                                 ,'Id_Projeto_Camara','Data_Projeto','Tramitacao_Encerrada','Aprovado'])\n",
    "\n",
    "#Substitundo valores\n",
    "listagem['Aprovado'] = listagem['Aprovado'].fillna('')\n",
    "listagem['Tramitacao_Encerrada'] = listagem['Tramitacao_Encerrada'].fillna('')\n",
    "listagem['Data_Projeto'] = listagem['Data_Projeto'].fillna('')\n",
    "listagem['Codigo_Tipo'] = listagem['Codigo_Tipo'].fillna('')\n",
    "\n",
    "listagem['Id_Projeto_Camara'] = listagem['Id_Projeto_Camara'].fillna(0)\n",
    "listagem['Id_Projeto_Camara'] = listagem['Id_Projeto_Camara'].astype(int)"
   ]
  },
  {
   "cell_type": "code",
   "execution_count": 154,
   "id": "17cf0195",
   "metadata": {},
   "outputs": [
    {
     "name": "stdout",
     "output_type": "stream",
     "text": [
      "[[<a href=\"proposicao.php?num=60020\" target=\"blank\">022</a>, <a href=\"proposicao.php?num=60020\" target=\"blank\">2017</a>, <a href=\"proposicao.php?num=60020\" target=\"blank\">Pedido de Informação</a>, <a href=\"proposicao.php?num=60020\" target=\"blank\">Sargento Mello Casal</a>, <a href=\"proposicao.php?num=60020\" target=\"blank\"><span style=\"text-align: justify; display:block;\">Solicita informações sobre os profissionais não docentes das instituições de Educação Infantil, públicas e privadas.</span></a>, <a href=\"proposicao.php?num=60020\" target=\"blank\">Arquivada</a>], [<a href=\"proposicao.php?num=60020\" target=\"blank\">022</a>, <a href=\"proposicao.php?num=60020\" target=\"blank\">2017</a>, <a href=\"proposicao.php?num=60020\" target=\"blank\">Pedido de Informação</a>, <a href=\"proposicao.php?num=60020\" target=\"blank\">Sargento Mello Casal</a>, <a href=\"proposicao.php?num=60020\" target=\"blank\"><span style=\"text-align: justify; display:block;\">Solicita informações sobre os profissionais não docentes das instituições de Educação Infantil, públicas e privadas.</span></a>, <a href=\"proposicao.php?num=60020\" target=\"blank\">Arquivada</a>]]\n"
     ]
    }
   ],
   "source": [
    "if (listagem['Id_Projeto_Camara'][i] == '' or listagem['Id_Projeto_Camara'][i] == 0) and listagem['Codigo_Tipo'][i] not in ('DESCONHECIDO','EMENDA'): \n",
    "    with requests.Session() as session:\n",
    "\n",
    "        id_projeto = ''\n",
    "        failed = False\n",
    "\n",
    "        # Variaveis de requisicao\n",
    "        num_proj = 22\n",
    "        ano_proj = 2017\n",
    "        tipo_proj = 'PEDIF'\n",
    "\n",
    "        # Variaveis de resposta\n",
    "        #status = ''\n",
    "\n",
    "        try:\n",
    "            # Requisicao para o portal de propostas da Camara\n",
    "            query = {\"numero\": num_proj, \"ano\": ano_proj, \"codtipo\": tipo_proj}\n",
    "            resposta = requests.get('https://www.camarajf.mg.gov.br/sal/listapropos.php?', params=query)\n",
    "\n",
    "            resp_format = BeautifulSoup(resposta.content, \"html.parser\")\n",
    "\n",
    "            fnd_proposicoes = resp_format.find('table', {'border':'0', 'cellpadding':'0', 'cellspacing':'0', 'height':'100%', 'width':'100%'}).table.tr.td.find_all('a', {'target':'blank'})\n",
    "\n",
    "            v_resultado = []\n",
    "            m_proposicoes = [[None]*6]*(int(len(fnd_proposicoes)/6))\n",
    "\n",
    "\n",
    "            for f in fnd_proposicoes:\n",
    "                v_resultado.append(f)\n",
    "\n",
    "            l, c, i = 0, 0, 0\n",
    "\n",
    "            while i < len(v_resultado):\n",
    "                m_proposicoes[l][c] = v_resultado[i]\n",
    "\n",
    "                i+=1\n",
    "                # Testes - percorrendo os calores de linhas, colunas e contador\n",
    "                #print((i%6))\n",
    "                #print(f'i = {i}')\n",
    "                #print(f'l = {l}')\n",
    "                #print(f'c = {c}')\n",
    "\n",
    "                if ((i%6)) == 0:\n",
    "                    l += 1\n",
    "                    c = 0\n",
    "                else:\n",
    "                    c += 1\n",
    "\n",
    "            print((m_proposicoes))\n",
    "\n",
    "\n",
    "        except:\n",
    "            print(resposta.status_code)\n",
    "\n",
    "    session.close()\n",
    "\n",
    "if (listagem['Data_Projeto'][i] == '' or listagem['Tramitacao_Encerrada'][i] == '' or listagem['Aprovado'][i] == '') and listagem['Id_Projeto_Camara'][i] != '':\n",
    "    "
   ]
  }
 ],
 "metadata": {
  "kernelspec": {
   "display_name": "Python 3 (ipykernel)",
   "language": "python",
   "name": "python3"
  },
  "language_info": {
   "codemirror_mode": {
    "name": "ipython",
    "version": 3
   },
   "file_extension": ".py",
   "mimetype": "text/x-python",
   "name": "python",
   "nbconvert_exporter": "python",
   "pygments_lexer": "ipython3",
   "version": "3.9.12"
  }
 },
 "nbformat": 4,
 "nbformat_minor": 5
}
