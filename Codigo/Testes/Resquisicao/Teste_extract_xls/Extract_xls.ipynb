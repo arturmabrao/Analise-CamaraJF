{
 "cells": [
  {
   "cell_type": "code",
   "execution_count": 1,
   "id": "25d2b6c6",
   "metadata": {},
   "outputs": [],
   "source": [
    "import pandas as pd\n",
    "pd.options.mode.chained_assignment = None  # default='warn'\n",
    "\n",
    "import re\n",
    "import requests\n",
    "from bs4 import BeautifulSoup\n",
    "\n",
    "import time\n",
    "from pathlib import Path\n",
    "\n",
    "# GetDate\n",
    "from datetime import datetime #,  date\n",
    "\n",
    "import glob\n",
    "import os.path\n",
    "\n",
    "# Desativacao de warning\n",
    "import warnings\n",
    "warnings.simplefilter(action='ignore', category=FutureWarning)\n"
   ]
  },
  {
   "cell_type": "code",
   "execution_count": 2,
   "id": "89474c42",
   "metadata": {},
   "outputs": [],
   "source": [
    "listagem_html = open(\"./XLS/listagem_13.html\", \"r\")"
   ]
  },
  {
   "cell_type": "code",
   "execution_count": 14,
   "id": "3fcc8b3d",
   "metadata": {},
   "outputs": [
    {
     "name": "stdout",
     "output_type": "stream",
     "text": [
      "None\n",
      "None\n",
      "None\n"
     ]
    }
   ],
   "source": [
    "with open('./XLS/listagem_13.html', 'r') as f:\n",
    "\n",
    "    contents = f.read()\n",
    "\n",
    "    print(soup.h2)\n",
    "    print(soup.head)\n",
    "    print(soup.li) = BeautifulSoup(contents, 'lxml')\n",
    "    \n",
    "print(soup.h2)\n",
    "print(soup.head)\n",
    "print(soup.li)"
   ]
  },
  {
   "cell_type": "code",
   "execution_count": 18,
   "id": "eaea3203",
   "metadata": {},
   "outputs": [],
   "source": [
    "with open('./XLS/listagem_13.html', 'r') as f:\n",
    "\n",
    "    contents = f.read()\n",
    "    soup = BeautifulSoup(contents, 'lxml')\n",
    "    \n"
   ]
  },
  {
   "cell_type": "code",
   "execution_count": 47,
   "id": "02dbcd62",
   "metadata": {},
   "outputs": [
    {
     "name": "stdout",
     "output_type": "stream",
     "text": [
      "0\n"
     ]
    }
   ],
   "source": [
    "count = 0\n",
    "# Opening the html file\n",
    "HTMLFile = open(\"./XLS/listagem_13.html\", \"r\")\n",
    "\n",
    "# Reading the file\n",
    "index = HTMLFile.read()\n",
    "with requests.Session() as session:\n",
    "    resposta = session.get('https://www.camarajf.mg.gov.br/sal/listapropos.php?ano=2013')\n",
    "# Creating a BeautifulSoup object and specifying the parser\n",
    "#S = BeautifulSoup(index, 'lxml')\n",
    "resp_format = BeautifulSoup(resposta.content, \"html.parser\")\n",
    "\n",
    "# Using the find_all method to find all elements of a tag\n",
    "#for tag in S.find_all('table'):\n",
    "#    count=+1\n",
    "\n",
    "    \n",
    "    \n",
    "\n",
    "\n",
    "fnd_proposicoes = resp_format.find('table', \n",
    "                                                        {'border':'0', \n",
    "                                                        'cellpadding':'0', \n",
    "                                                        'cellspacing':'0', \n",
    "                                                        'height':'100%', \n",
    "                                                        'width':'100%'}).table.tr.td.find_all('a', \n",
    "                                                                                                {'target':'blank'})\n",
    "\n",
    "    \n",
    "print(count)"
   ]
  },
  {
   "cell_type": "code",
   "execution_count": 5,
   "id": "488f1ede",
   "metadata": {},
   "outputs": [
    {
     "ename": "NameError",
     "evalue": "name 'v_resultado' is not defined",
     "output_type": "error",
     "traceback": [
      "\u001b[1;31m---------------------------------------------------------------------------\u001b[0m",
      "\u001b[1;31mNameError\u001b[0m                                 Traceback (most recent call last)",
      "Input \u001b[1;32mIn [5]\u001b[0m, in \u001b[0;36m<cell line: 78>\u001b[1;34m()\u001b[0m\n\u001b[0;32m     75\u001b[0m session\u001b[38;5;241m.\u001b[39mclose()\n\u001b[0;32m     76\u001b[0m time\u001b[38;5;241m.\u001b[39msleep(\u001b[38;5;241m0.5\u001b[39m)\n\u001b[1;32m---> 78\u001b[0m (\u001b[43mv_resultado\u001b[49m)\n",
      "\u001b[1;31mNameError\u001b[0m: name 'v_resultado' is not defined"
     ]
    }
   ],
   "source": [
    "with requests.Session() as session:\n",
    "\n",
    "    proposicao_enc = False\n",
    "    tipo, ementa, situacao, ementa_df_1, ementa_df_2 = '', '', '', '', ''\n",
    "    id_projeto_camara = 0\n",
    "    failed = False\n",
    "    \n",
    "    # Variaveis de requisicao\n",
    "\n",
    "    # Variaveis de resposta\n",
    "    #status = ''\n",
    "\n",
    "    try:\n",
    "        # Requisicao para o portal de propostas da Camara\n",
    "        query = {\"numero\": num_proj, \"ano\": ano_proj, \"codtipo\": tipo_proj}\n",
    "        #querys.append(query)\n",
    "        resposta = session.get('https://www.camarajf.mg.gov.br/sal/listapropos.php?ano=2013')\n",
    "        req_count+=1\n",
    "        \n",
    "        resp_format = BeautifulSoup(resposta.content, \"html.parser\")\n",
    "        fnd_proposicoes = resp_format.find('table', \n",
    "                                            {'border':'0', \n",
    "                                            'cellpadding':'0', \n",
    "                                            'cellspacing':'0', \n",
    "                                            'height':'100%', \n",
    "                                            'width':'100%'}).table.tr.td.find_all('a', \n",
    "                                                                                    {'target':'blank'})\n",
    "\n",
    "        v_resultado = []\n",
    "        m_proposicoes = [[None]*6]*(int(len(fnd_proposicoes)/6))\n",
    "        \n",
    "        for f in fnd_proposicoes:\n",
    "            v_resultado.append(f)\n",
    "\n",
    "        while a < len(v_resultado):\n",
    "            m_proposicoes[l][c] = v_resultado[a]\n",
    "            a+=1\n",
    "\n",
    "            # Testes - percorrendo os calores de linhas, colunas e contador\n",
    "            #print((a%6))\n",
    "            #print(f'a = {a}')\n",
    "            #print(f'l = {l}')\n",
    "            #print(f'c = {c}')\n",
    "\n",
    "            if ((a%6)) == 0:\n",
    "\n",
    "                tipo = str(re.search('>(.+?)<', (str(m_proposicoes[l][2]))).group(1))\n",
    "                #ementa = str(re.search('block;\">(.+?)<', (str(m_proposicoes[l][4]))).group(1))\n",
    "                ementa = str(re.search('block;\">(.+?)/span',str(m_proposicoes[l][4]).replace('...', '').replace('\\r', ' ').replace('\\n', ' ').replace(' <', '').replace('<', '')).group(1))\n",
    "                situacao = str(re.search('>(.+?)<', (str(m_proposicoes[l][5]))).group(1))\n",
    "\n",
    "\n",
    "\n",
    "\n",
    "                l += 1\n",
    "                c = 0\n",
    "            else:\n",
    "                c += 1\n",
    "\n",
    "\n",
    "            \n",
    "    except:\n",
    "        #Assinala que houve falha\n",
    "        failed = True\n",
    "        time.sleep(180)\n",
    "        #print(resposta.status_code)\n",
    "\n",
    "\n",
    "    l, c, a = 0, 0, 0\n",
    "\n",
    "    \n",
    "    \n",
    "    \n",
    "       \n",
    "session.close()\n",
    "time.sleep(0.5)\n",
    "            \n",
    "(v_resultado)\n",
    "        "
   ]
  },
  {
   "cell_type": "code",
   "execution_count": null,
   "id": "022dee26",
   "metadata": {},
   "outputs": [],
   "source": []
  }
 ],
 "metadata": {
  "kernelspec": {
   "display_name": "Python 3 (ipykernel)",
   "language": "python",
   "name": "python3"
  },
  "language_info": {
   "codemirror_mode": {
    "name": "ipython",
    "version": 3
   },
   "file_extension": ".py",
   "mimetype": "text/x-python",
   "name": "python",
   "nbconvert_exporter": "python",
   "pygments_lexer": "ipython3",
   "version": "3.9.12"
  }
 },
 "nbformat": 4,
 "nbformat_minor": 5
}
