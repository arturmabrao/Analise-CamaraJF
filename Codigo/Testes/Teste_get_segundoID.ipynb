{
 "cells": [
  {
   "cell_type": "code",
   "execution_count": 1,
   "id": "cc7eb64e",
   "metadata": {},
   "outputs": [],
   "source": [
    "# Chamadas e tratamentos de dados\n",
    "import re\n",
    "import requests"
   ]
  },
  {
   "cell_type": "code",
   "execution_count": 20,
   "id": "36f8da03",
   "metadata": {},
   "outputs": [
    {
     "name": "stdout",
     "output_type": "stream",
     "text": [
      "-2\n"
     ]
    }
   ],
   "source": [
    "id_projeto=-1\n",
    "# Requisicao para o portal de propostas da Camara\n",
    "#query = {\"num\": id_proj}\n",
    "ementa = 'Solicita+informa%E7%F5es+a+respeito+do+motivo+da+retirad'\n",
    "query = {\"numero\": 13, \"ano\": 2017, \"tipo\": 'PEDIF', \"ementa\": ementa}\n",
    "\n",
    "resposta = requests.get('https://www.camarajf.mg.gov.br/sal/listapropos.php?', params=query)\n",
    "\n",
    "try:\n",
    "    # Limpeza para pegar o id do projeto dentro da prefeitura\n",
    "    retorno = (''.join(map(chr, resposta.content.upper())).replace(' ', ''))\n",
    "    id_projeto = re.search('PROPOSICAO.PHP(.+?)TARGET=BLANK', retorno).group(1).replace('?NUM=','').replace('\"','')\n",
    "except:\n",
    "    id_projeto=-2\n",
    "\n",
    "print(id_projeto)"
   ]
  }
 ],
 "metadata": {
  "kernelspec": {
   "display_name": "Python 3 (ipykernel)",
   "language": "python",
   "name": "python3"
  },
  "language_info": {
   "codemirror_mode": {
    "name": "ipython",
    "version": 3
   },
   "file_extension": ".py",
   "mimetype": "text/x-python",
   "name": "python",
   "nbconvert_exporter": "python",
   "pygments_lexer": "ipython3",
   "version": "3.9.12"
  }
 },
 "nbformat": 4,
 "nbformat_minor": 5
}
