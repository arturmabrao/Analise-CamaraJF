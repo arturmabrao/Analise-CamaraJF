{
 "cells": [
  {
   "cell_type": "code",
   "execution_count": 3,
   "id": "a990136d",
   "metadata": {},
   "outputs": [],
   "source": [
    "# Imports\n",
    "\n",
    "# Matemaricos, mapiulacao de dados e funcoes\n",
    "import numpy as np\n",
    "import pandas as pd\n",
    "import time\n",
    "# Desligando alertas de chained_assignment\n",
    "pd.options.mode.chained_assignment = None  # default='warn'\n",
    "\n",
    "# Graficos\n",
    "#import matplotlib\n",
    "#import matplotlib.pyplot as plt\n",
    "#import seaborn as sns\n",
    "\n",
    "# Chamadas e tratamentos de dados e arquivos\n",
    "import re\n",
    "import requests\n",
    "from pathlib import Path"
   ]
  },
  {
   "cell_type": "code",
   "execution_count": 21,
   "id": "34214412",
   "metadata": {},
   "outputs": [
    {
     "ename": "KeyboardInterrupt",
     "evalue": "",
     "output_type": "error",
     "traceback": [
      "\u001b[1;31m---------------------------------------------------------------------------\u001b[0m",
      "\u001b[1;31mKeyboardInterrupt\u001b[0m                         Traceback (most recent call last)",
      "Input \u001b[1;32mIn [21]\u001b[0m, in \u001b[0;36m<cell line: 6>\u001b[1;34m()\u001b[0m\n\u001b[0;32m     20\u001b[0m \u001b[38;5;28;01mexcept\u001b[39;00m:\n\u001b[0;32m     21\u001b[0m     failed \u001b[38;5;241m=\u001b[39m \u001b[38;5;28;01mTrue\u001b[39;00m\n\u001b[1;32m---> 23\u001b[0m \u001b[43mtime\u001b[49m\u001b[38;5;241;43m.\u001b[39;49m\u001b[43msleep\u001b[49m\u001b[43m(\u001b[49m\u001b[38;5;241;43m0.5\u001b[39;49m\u001b[43m)\u001b[49m\n\u001b[0;32m     26\u001b[0m \u001b[38;5;28;01mif\u001b[39;00m failed:\n\u001b[0;32m     27\u001b[0m     failed_req \u001b[38;5;241m+\u001b[39m\u001b[38;5;241m=\u001b[39m \u001b[38;5;241m1\u001b[39m\n",
      "\u001b[1;31mKeyboardInterrupt\u001b[0m: "
     ]
    }
   ],
   "source": [
    "count = 1\n",
    "failed_req= 0\n",
    "failed = False\n",
    "id_projeto = ''\n",
    "\n",
    "while count >0:\n",
    "    for i in range(1,10):\n",
    "\n",
    "        failed = False\n",
    "        try:\n",
    "            query = {\"numero\": 193600, \"ano\": 2012, \"tipo\": 'REQ'}\n",
    "            resposta = requests.get('https://www.camarajf.mg.gov.br/sal/listapropos.php?', params=query)\n",
    "\n",
    "            try:\n",
    "                # Limpeza para pegar o id do projeto dentro da prefeitura\n",
    "                retorno = (''.join(map(chr, resposta.content.upper())).replace(' ', ''))\n",
    "                id_projeto = re.search('PROPOSICAO.PHP(.+?)TARGET=BLANK', retorno).group(1).replace('?NUM=','').replace('\"','')\n",
    "            except:\n",
    "                    id_projeto = ''\n",
    "        except:\n",
    "            failed = True\n",
    "\n",
    "        time.sleep(0.5)\n",
    "\n",
    "\n",
    "        if failed:\n",
    "            failed_req += 1\n",
    "        else:\n",
    "            filed_req = 0\n",
    "\n",
    "    #                 Se houve 5 falhas em consecutivo\n",
    "        if failed_req > 5:\n",
    "            break\n",
    "\n",
    "    if failed_req > 5:\n",
    "        break\n",
    "            \n",
    "    if failed_req > 5:\n",
    "        break        \n",
    "\n",
    "    count = 1\n",
    "    \n",
    "print(failed,failed_req, i)"
   ]
  },
  {
   "cell_type": "code",
   "execution_count": 10,
   "id": "d4101774",
   "metadata": {},
   "outputs": [
    {
     "name": "stdout",
     "output_type": "stream",
     "text": [
      "cabo\n"
     ]
    }
   ],
   "source": []
  }
 ],
 "metadata": {
  "kernelspec": {
   "display_name": "Python 3 (ipykernel)",
   "language": "python",
   "name": "python3"
  },
  "language_info": {
   "codemirror_mode": {
    "name": "ipython",
    "version": 3
   },
   "file_extension": ".py",
   "mimetype": "text/x-python",
   "name": "python",
   "nbconvert_exporter": "python",
   "pygments_lexer": "ipython3",
   "version": "3.9.12"
  }
 },
 "nbformat": 4,
 "nbformat_minor": 5
}
